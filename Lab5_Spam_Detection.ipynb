{
  "cells": [
    {
      "cell_type": "markdown",
      "metadata": {
        "id": "_bphECiUa9zw"
      },
      "source": [
        "# Lab 5: Spam Detection\n",
        "\n",
        "In this assignment, we will build a recurrent neural network to classify a SMS text message\n",
        "as \"spam\" or \"not spam\". In the process, you will\n",
        "    \n",
        "1. Clean and process text data for machine learning.\n",
        "2. Understand and implement a character-level recurrent neural network.\n",
        "3. Use torchtext to build recurrent neural network models.\n",
        "4. Understand batching for a recurrent neural network, and use torchtext to implement RNN batching.\n",
        "\n",
        "### What to submit\n",
        "\n",
        "Submit a PDF file containing all your code, outputs, and write-up. You can produce a PDF of your Google Colab file by going to File > Print and then save as PDF. The Colab instructions have more information.\n",
        "\n",
        "Do not submit any other files produced by your code.\n",
        "\n",
        "Include a link to your colab file in your submission."
      ]
    },
    {
      "cell_type": "markdown",
      "metadata": {
        "id": "rWiUqJJTa9z6"
      },
      "source": [
        "## Colab Link\n",
        "\n",
        "Include a link to your Colab file here. If you would like the TA to look at your\n",
        "Colab file in case your solutions are cut off, **please make sure that your Colab\n",
        "file is publicly accessible at the time of submission**."
      ]
    },
    {
      "cell_type": "markdown",
      "metadata": {
        "id": "MNRtnYwpZPBC"
      },
      "source": [
        "Colab Link: https://colab.research.google.com/drive/1EBgIgARnH4_CRCcIv-OMHuX7PJ3wxGym?usp=sharing"
      ]
    },
    {
      "cell_type": "markdown",
      "metadata": {
        "id": "Z5Q9E4RGZPBC"
      },
      "source": [
        "As we are using the older version of the torchtext, please run the following to downgrade the torchtext version:"
      ]
    },
    {
      "cell_type": "markdown",
      "metadata": {
        "id": "3WF-4fiqZPBD"
      },
      "source": [
        "!pip install -U torch==1.8.0+cu111 torchtext==0.9.0 -f https://download.pytorch.org/whl/torch_stable.html\n",
        "\n"
      ]
    },
    {
      "cell_type": "code",
      "source": [
        "!pip install -U torch==1.8.0+cu111 torchtext==0.9.0 -f https://download.pytorch.org/whl/torch_stable.html"
      ],
      "metadata": {
        "colab": {
          "base_uri": "https://localhost:8080/"
        },
        "id": "zjlYSuURZm3s",
        "outputId": "224efbe5-4b76-44ff-d057-1e4ea284f42b"
      },
      "execution_count": 1,
      "outputs": [
        {
          "output_type": "stream",
          "name": "stdout",
          "text": [
            "Looking in indexes: https://pypi.org/simple, https://us-python.pkg.dev/colab-wheels/public/simple/\n",
            "Looking in links: https://download.pytorch.org/whl/torch_stable.html\n",
            "Collecting torch==1.8.0+cu111\n",
            "  Downloading https://download.pytorch.org/whl/cu111/torch-1.8.0%2Bcu111-cp37-cp37m-linux_x86_64.whl (1982.2 MB)\n",
            "\u001b[K     |█████████████▌                  | 834.1 MB 1.4 MB/s eta 0:13:46tcmalloc: large alloc 1147494400 bytes == 0x3a760000 @  0x7faf82132615 0x58ead6 0x4f355e 0x4d222f 0x51041f 0x5b4ee6 0x58ff2e 0x510325 0x5b4ee6 0x58ff2e 0x50d482 0x4d00fb 0x50cb8d 0x4d00fb 0x50cb8d 0x4d00fb 0x50cb8d 0x4bac0a 0x538a76 0x590ae5 0x510280 0x5b4ee6 0x58ff2e 0x50d482 0x5b4ee6 0x58ff2e 0x50c4fc 0x58fd37 0x50ca37 0x5b4ee6 0x58ff2e\n",
            "\u001b[K     |█████████████████               | 1055.7 MB 1.5 MB/s eta 0:10:27tcmalloc: large alloc 1434370048 bytes == 0x7edb6000 @  0x7faf82132615 0x58ead6 0x4f355e 0x4d222f 0x51041f 0x5b4ee6 0x58ff2e 0x510325 0x5b4ee6 0x58ff2e 0x50d482 0x4d00fb 0x50cb8d 0x4d00fb 0x50cb8d 0x4d00fb 0x50cb8d 0x4bac0a 0x538a76 0x590ae5 0x510280 0x5b4ee6 0x58ff2e 0x50d482 0x5b4ee6 0x58ff2e 0x50c4fc 0x58fd37 0x50ca37 0x5b4ee6 0x58ff2e\n",
            "\u001b[K     |█████████████████████▋          | 1336.2 MB 1.8 MB/s eta 0:05:57tcmalloc: large alloc 1792966656 bytes == 0x3be8000 @  0x7faf82132615 0x58ead6 0x4f355e 0x4d222f 0x51041f 0x5b4ee6 0x58ff2e 0x510325 0x5b4ee6 0x58ff2e 0x50d482 0x4d00fb 0x50cb8d 0x4d00fb 0x50cb8d 0x4d00fb 0x50cb8d 0x4bac0a 0x538a76 0x590ae5 0x510280 0x5b4ee6 0x58ff2e 0x50d482 0x5b4ee6 0x58ff2e 0x50c4fc 0x58fd37 0x50ca37 0x5b4ee6 0x58ff2e\n",
            "\u001b[K     |███████████████████████████▎    | 1691.1 MB 9.2 MB/s eta 0:00:32tcmalloc: large alloc 2241208320 bytes == 0x6e9d0000 @  0x7faf82132615 0x58ead6 0x4f355e 0x4d222f 0x51041f 0x5b4ee6 0x58ff2e 0x510325 0x5b4ee6 0x58ff2e 0x50d482 0x4d00fb 0x50cb8d 0x4d00fb 0x50cb8d 0x4d00fb 0x50cb8d 0x4bac0a 0x538a76 0x590ae5 0x510280 0x5b4ee6 0x58ff2e 0x50d482 0x5b4ee6 0x58ff2e 0x50c4fc 0x58fd37 0x50ca37 0x5b4ee6 0x58ff2e\n",
            "\u001b[K     |████████████████████████████████| 1982.2 MB 1.4 MB/s eta 0:00:01tcmalloc: large alloc 1982251008 bytes == 0xf4332000 @  0x7faf821311e7 0x4b2590 0x4b261c 0x58ead6 0x4f355e 0x4d222f 0x51041f 0x5b4ee6 0x58ff2e 0x50ca37 0x5b4ee6 0x58ff2e 0x50ca37 0x5b4ee6 0x58ff2e 0x50ca37 0x5b4ee6 0x58ff2e 0x50ca37 0x5b4ee6 0x58ff2e 0x50ca37 0x58fd37 0x50ca37 0x5b4ee6 0x58ff2e 0x50d482 0x5b4ee6 0x58ff2e 0x50d482 0x5b4ee6\n",
            "tcmalloc: large alloc 2477817856 bytes == 0x1dea50000 @  0x7faf82132615 0x58ead6 0x4f355e 0x4d222f 0x51041f 0x5b4ee6 0x58ff2e 0x50ca37 0x5b4ee6 0x58ff2e 0x50ca37 0x5b4ee6 0x58ff2e 0x50ca37 0x5b4ee6 0x58ff2e 0x50ca37 0x5b4ee6 0x58ff2e 0x50ca37 0x58fd37 0x50ca37 0x5b4ee6 0x58ff2e 0x50d482 0x5b4ee6 0x58ff2e 0x50d482 0x5b4ee6 0x4bad99 0x4d3249\n",
            "\u001b[K     |████████████████████████████████| 1982.2 MB 4.9 kB/s \n",
            "\u001b[?25hCollecting torchtext==0.9.0\n",
            "  Downloading torchtext-0.9.0-cp37-cp37m-manylinux1_x86_64.whl (7.1 MB)\n",
            "\u001b[K     |████████████████████████████████| 7.1 MB 4.9 MB/s \n",
            "\u001b[?25hRequirement already satisfied: typing-extensions in /usr/local/lib/python3.7/dist-packages (from torch==1.8.0+cu111) (4.1.1)\n",
            "Requirement already satisfied: numpy in /usr/local/lib/python3.7/dist-packages (from torch==1.8.0+cu111) (1.21.6)\n",
            "Requirement already satisfied: tqdm in /usr/local/lib/python3.7/dist-packages (from torchtext==0.9.0) (4.64.1)\n",
            "Requirement already satisfied: requests in /usr/local/lib/python3.7/dist-packages (from torchtext==0.9.0) (2.23.0)\n",
            "Requirement already satisfied: idna<3,>=2.5 in /usr/local/lib/python3.7/dist-packages (from requests->torchtext==0.9.0) (2.10)\n",
            "Requirement already satisfied: urllib3!=1.25.0,!=1.25.1,<1.26,>=1.21.1 in /usr/local/lib/python3.7/dist-packages (from requests->torchtext==0.9.0) (1.24.3)\n",
            "Requirement already satisfied: certifi>=2017.4.17 in /usr/local/lib/python3.7/dist-packages (from requests->torchtext==0.9.0) (2022.9.24)\n",
            "Requirement already satisfied: chardet<4,>=3.0.2 in /usr/local/lib/python3.7/dist-packages (from requests->torchtext==0.9.0) (3.0.4)\n",
            "Installing collected packages: torch, torchtext\n",
            "  Attempting uninstall: torch\n",
            "    Found existing installation: torch 1.12.1+cu113\n",
            "    Uninstalling torch-1.12.1+cu113:\n",
            "      Successfully uninstalled torch-1.12.1+cu113\n",
            "  Attempting uninstall: torchtext\n",
            "    Found existing installation: torchtext 0.13.1\n",
            "    Uninstalling torchtext-0.13.1:\n",
            "      Successfully uninstalled torchtext-0.13.1\n",
            "\u001b[31mERROR: pip's dependency resolver does not currently take into account all the packages that are installed. This behaviour is the source of the following dependency conflicts.\n",
            "torchvision 0.13.1+cu113 requires torch==1.12.1, but you have torch 1.8.0+cu111 which is incompatible.\n",
            "torchaudio 0.12.1+cu113 requires torch==1.12.1, but you have torch 1.8.0+cu111 which is incompatible.\u001b[0m\n",
            "Successfully installed torch-1.8.0+cu111 torchtext-0.9.0\n"
          ]
        }
      ]
    },
    {
      "cell_type": "markdown",
      "metadata": {
        "id": "xV0wctYVZPBD"
      },
      "source": [
        "If you are interested to use the most recent version if torchtext, you can look at the following document to see how to convert the legacy version to the new version:\n",
        "https://colab.research.google.com/github/pytorch/text/blob/master/examples/legacy_tutorial/migration_tutorial.ipynb"
      ]
    },
    {
      "cell_type": "code",
      "execution_count": 2,
      "metadata": {
        "id": "HgfNOUaPa9z8",
        "tags": []
      },
      "outputs": [],
      "source": [
        "import torch\n",
        "import torch.nn as nn\n",
        "import torch.nn.functional as F\n",
        "import torch.optim as optim\n",
        "import numpy as np"
      ]
    },
    {
      "cell_type": "markdown",
      "metadata": {
        "id": "M0jLI9LBa90C"
      },
      "source": [
        "## Part 1. Data Cleaning [15 pt]\n",
        "\n",
        "We will be using the \"SMS Spam Collection Data Set\" available at http://archive.ics.uci.edu/ml/datasets/SMS+Spam+Collection\n",
        "\n",
        "There is a link to download the \"Data Folder\" at the very top of the webpage. Download the zip file, unzip it, and upload the file `SMSSpamCollection` to Colab.    "
      ]
    },
    {
      "cell_type": "code",
      "source": [
        "from google.colab import drive\n",
        "drive.mount('/content/gdrive')\n",
        "\n",
        "path = '/content/gdrive/My Drive/Colab Notebooks/APS360_labs/lab5/SMSSpamCollection'"
      ],
      "metadata": {
        "colab": {
          "base_uri": "https://localhost:8080/"
        },
        "id": "supufwaDa44Z",
        "outputId": "0a258752-4c76-4509-8021-c3bc01263c0e"
      },
      "execution_count": 12,
      "outputs": [
        {
          "output_type": "stream",
          "name": "stdout",
          "text": [
            "Drive already mounted at /content/gdrive; to attempt to forcibly remount, call drive.mount(\"/content/gdrive\", force_remount=True).\n"
          ]
        }
      ]
    },
    {
      "cell_type": "markdown",
      "metadata": {
        "id": "sSuF7C_Ga90E"
      },
      "source": [
        "### Part (a) [2 pt]\n",
        "\n",
        "Open up the file in Python, and print out one example of a spam SMS, and one example of a non-spam SMS.\n",
        "\n",
        "What is the label value for a spam message, and what is the label value for a non-spam message?"
      ]
    },
    {
      "cell_type": "code",
      "execution_count": 14,
      "metadata": {
        "colab": {
          "base_uri": "https://localhost:8080/"
        },
        "collapsed": true,
        "id": "I_IfXHeTa90F",
        "jupyter": {
          "outputs_hidden": true
        },
        "outputId": "81d81820-b824-4d30-87d3-800e7c844311"
      },
      "outputs": [
        {
          "output_type": "stream",
          "name": "stdout",
          "text": [
            "ham\tGo until jurong point, crazy.. Available only in bugis n great world la e buffet... Cine there got amore wat...\n",
            "\n",
            "spam\tFree entry in 2 a wkly comp to win FA Cup final tkts 21st May 2005. Text FA to 87121 to receive entry question(std txt rate)T&C's apply 08452810075over18's\n",
            "\n",
            "The label value for spam message is: spam. The label value for non-spam message is: ham.\n"
          ]
        }
      ],
      "source": [
        "for line in open(path):\n",
        "   if line[:3] == \"ham\":\n",
        "      print(line) \n",
        "      break\n",
        "\n",
        "for line in open(path):\n",
        "   if line[:4] == \"spam\":\n",
        "      print(line) \n",
        "      break\n",
        "\n",
        "print(\"The label value for spam message is: spam. The label value for non-spam message is: ham.\")"
      ]
    },
    {
      "cell_type": "markdown",
      "metadata": {
        "id": "AukA6vMVa90d"
      },
      "source": [
        "### Part (b) [1 pt]\n",
        "\n",
        "How many spam messages are there in the data set?\n",
        "How many non-spam messages are there in the data set?\n"
      ]
    },
    {
      "cell_type": "code",
      "execution_count": 28,
      "metadata": {
        "colab": {
          "base_uri": "https://localhost:8080/"
        },
        "collapsed": true,
        "id": "LgsqyemVa90e",
        "jupyter": {
          "outputs_hidden": true
        },
        "outputId": "10525588-fc02-4a49-85d2-35bbf6d2ae29"
      },
      "outputs": [
        {
          "output_type": "stream",
          "name": "stdout",
          "text": [
            "There are 747 spam messages and 4827 non-spam messages\n"
          ]
        }
      ],
      "source": [
        "num_spam = 0\n",
        "num_ham = 0\n",
        "\n",
        "for line in open(path):\n",
        "    if line[:3] == 'ham':\n",
        "        num_ham += 1\n",
        "    elif line[:4] == \"spam\":\n",
        "        num_spam += 1\n",
        "\n",
        "print(\"There are\", num_spam, \"spam messages and\", num_ham, \"non-spam messages\")"
      ]
    },
    {
      "cell_type": "markdown",
      "metadata": {
        "id": "d1WXxVt6a90h"
      },
      "source": [
        "### Part (c) [4 pt]\n",
        "\n",
        "We will be using the package `torchtext` to load, process, and batch the data.\n",
        "A tutorial to torchtext is available below. This tutorial uses the same\n",
        "Sentiment140 data set that we explored during lecture.\n",
        "\n",
        "https://medium.com/@sonicboom8/sentiment-analysis-torchtext-55fb57b1fab8\n",
        "\n",
        "Unlike what we did during lecture, we will be building a **character level RNN**.\n",
        "That is, we will treat each **character** as a token in our sequence,\n",
        "rather than each **word**.\n",
        "\n",
        "Identify two advantage and two disadvantage of modelling SMS text\n",
        "messages as a sequence of characters rather than a sequence of words."
      ]
    },
    {
      "cell_type": "markdown",
      "source": [
        "Advantages:\n",
        "1. There are only 26 unique letters and few more symbols and punctuations, which is much fewer than the number of unique words, so we can have smaller size of input and save the memory usage.\n",
        "2. All sentecnes are constructed by letters, so it is not likely to receive a sentence that is never seen before. For word, it has a higher possibility that the model never seen a word because there are so many different words.\n",
        "\n",
        "Disadvantages:\n",
        "1. The letter itself do not contain any meanings, so it is difficult to recognize the meaning of a sentence and may generate a meaningless result.\n",
        "2. There are more letters than words appear in a sentence, so it requires a longer computation time."
      ],
      "metadata": {
        "id": "98cLndBHd8U6"
      }
    },
    {
      "cell_type": "markdown",
      "metadata": {
        "id": "ie_D0bv9a90k"
      },
      "source": [
        "### Part (d) [1 pt]\n",
        "\n",
        "We will be loading our data set using `torchtext.data.TabularDataset`. The\n",
        "constructor will read directly from the `SMSSpamCollection` file. \n",
        "\n",
        "For the data file to be read successfuly, we\n",
        "need to specify the **fields** (columns) in the file. \n",
        "In our case, the dataset has two fields: \n",
        "\n",
        "- a text field containing the sms messages,\n",
        "- a label field which will be converted into a binary label.\n",
        "\n",
        "Split the dataset into `train`, `valid`, and `test`. Use a 60-20-20 split.\n",
        "You may find this torchtext API page helpful:\n",
        "https://torchtext.readthedocs.io/en/latest/data.html#dataset\n",
        "\n",
        "Hint: There is a `Dataset` method that can perform the random split for you."
      ]
    },
    {
      "cell_type": "code",
      "source": [
        "import torchtext\n",
        "\n",
        "text_field = torchtext.legacy.data.Field(sequential=True,      \n",
        "                                  tokenize=lambda x: x, \n",
        "                                  include_lengths=True, \n",
        "                                  batch_first=True,\n",
        "                                  use_vocab=True)       \n",
        "label_field = torchtext.legacy.data.Field(sequential=False,    \n",
        "                                   use_vocab=False,     \n",
        "                                   is_target=True,      \n",
        "                                   batch_first=True,\n",
        "                                   preprocessing=lambda x: int(x == 'spam')) \n",
        "\n",
        "fields = [('label', label_field), ('sms', text_field)]\n",
        "dataset = torchtext.legacy.data.TabularDataset(path, \"tsv\", fields)\n",
        "train, val, test = dataset.split(split_ratio=[0.6, 0.2, 0.2])"
      ],
      "metadata": {
        "id": "TbArQY4nf7Mb"
      },
      "execution_count": 26,
      "outputs": []
    },
    {
      "cell_type": "code",
      "source": [
        "print(dataset[0].label)\n",
        "print(dataset[0].sms)\n",
        "print(\"length:\", len(train), len(val), len(test))"
      ],
      "metadata": {
        "colab": {
          "base_uri": "https://localhost:8080/"
        },
        "id": "Ty7j_s7ek2Dt",
        "outputId": "be623087-3416-43cd-fc5b-19efe3cbb805"
      },
      "execution_count": 29,
      "outputs": [
        {
          "output_type": "stream",
          "name": "stdout",
          "text": [
            "0\n",
            "Go until jurong point, crazy.. Available only in bugis n great world la e buffet... Cine there got amore wat...\n",
            "length: 3343 1115 1114\n"
          ]
        }
      ]
    },
    {
      "cell_type": "markdown",
      "metadata": {
        "id": "v6nP0Ks_a90o"
      },
      "source": [
        "### Part (e) [2 pt]\n",
        "\n",
        "You saw in part (b) that there are many more non-spam messages than spam messages.\n",
        "This **imbalance** in our training data will be problematic for training.\n",
        "We can fix this disparity by duplicating spam messages in the training set,\n",
        "so that the training set is roughly **balanced**.\n",
        "\n",
        "Explain why having a balanced training set is helpful for training our neural network.\n",
        "\n",
        "Note: if you are not sure, try removing the below code and train your mode."
      ]
    },
    {
      "cell_type": "code",
      "execution_count": 30,
      "metadata": {
        "collapsed": true,
        "id": "FWvx9_rka90p",
        "jupyter": {
          "outputs_hidden": true
        }
      },
      "outputs": [],
      "source": [
        "# save the original training examples\n",
        "old_train_examples = train.examples\n",
        "# get all the spam messages in `train`\n",
        "train_spam = []\n",
        "for item in train.examples:\n",
        "    if item.label == 1:\n",
        "        train_spam.append(item)\n",
        "# duplicate each spam message 6 more times\n",
        "train.examples = old_train_examples + train_spam * 6"
      ]
    },
    {
      "cell_type": "markdown",
      "source": [
        "A balanced training set is helpful for training our neural network because we want the model to have the similiar ability to detect both spam and non-spam message. So we need to provide the model with a similar size of train data."
      ],
      "metadata": {
        "id": "ozg5ep4Em-3u"
      }
    },
    {
      "cell_type": "markdown",
      "metadata": {
        "id": "j7eUmBEva90r"
      },
      "source": [
        "### Part (f) [1 pt]\n",
        "\n",
        "We need to build the vocabulary on the training data by running the below code.\n",
        "This finds all the possible character tokens in the training set.\n",
        "\n",
        "Explain what the variables `text_field.vocab.stoi` and `text_field.vocab.itos` represent."
      ]
    },
    {
      "cell_type": "code",
      "execution_count": 31,
      "metadata": {
        "colab": {
          "base_uri": "https://localhost:8080/"
        },
        "collapsed": true,
        "id": "8CQM8flKa90s",
        "jupyter": {
          "outputs_hidden": true
        },
        "outputId": "42d67fd5-f564-4fd5-8229-54f1b76f578f"
      },
      "outputs": [
        {
          "output_type": "stream",
          "name": "stdout",
          "text": [
            "defaultdict(<bound method Vocab._default_unk_index of <torchtext.vocab.Vocab object at 0x7f0e57fafd10>>, {'<unk>': 0, '<pad>': 1, ' ': 2, 'e': 3, 'o': 4, 't': 5, 'a': 6, 'n': 7, 'r': 8, 'i': 9, 's': 10, 'l': 11, 'u': 12, 'h': 13, '0': 14, 'd': 15, '.': 16, 'c': 17, 'm': 18, 'y': 19, 'w': 20, 'p': 21, 'g': 22, '1': 23, 'f': 24, 'b': 25, '2': 26, 'T': 27, '8': 28, 'k': 29, 'E': 30, 'v': 31, 'S': 32, '5': 33, 'I': 34, 'C': 35, 'O': 36, '4': 37, 'A': 38, 'N': 39, '7': 40, 'x': 41, '6': 42, 'R': 43, '3': 44, '!': 45, ',': 46, 'P': 47, '9': 48, 'M': 49, 'W': 50, 'U': 51, 'H': 52, 'L': 53, 'F': 54, 'B': 55, 'D': 56, 'G': 57, 'Y': 58, '/': 59, \"'\": 60, '?': 61, '£': 62, '&': 63, '-': 64, 'X': 65, ':': 66, 'z': 67, 'V': 68, 'K': 69, 'j': 70, '*': 71, 'J': 72, ';': 73, '+': 74, ')': 75, 'q': 76, '(': 77, '#': 78, 'Q': 79, '\"': 80, '@': 81, '>': 82, '=': 83, 'Z': 84, 'ü': 85, '<': 86, 'Ü': 87, '$': 88, '\\x92': 89, '‘': 90, '[': 91, ']': 92, '_': 93, '%': 94, '|': 95, '“': 96, '…': 97, '–': 98, '\\x93': 99, '\\\\': 100, '\\t': 101, '\\n': 102, '~': 103, '\\x94': 104, '\\x96': 105, '’': 106, '^': 107, 'ì': 108, '┾': 109, '〨': 110, '鈥': 111})\n",
            "['<unk>', '<pad>', ' ', 'e', 'o', 't', 'a', 'n', 'r', 'i', 's', 'l', 'u', 'h', '0', 'd', '.', 'c', 'm', 'y', 'w', 'p', 'g', '1', 'f', 'b', '2', 'T', '8', 'k', 'E', 'v', 'S', '5', 'I', 'C', 'O', '4', 'A', 'N', '7', 'x', '6', 'R', '3', '!', ',', 'P', '9', 'M', 'W', 'U', 'H', 'L', 'F', 'B', 'D', 'G', 'Y', '/', \"'\", '?', '£', '&', '-', 'X', ':', 'z', 'V', 'K', 'j', '*', 'J', ';', '+', ')', 'q', '(', '#', 'Q', '\"', '@', '>', '=', 'Z', 'ü', '<', 'Ü', '$', '\\x92', '‘', '[', ']', '_', '%', '|', '“', '…', '–', '\\x93', '\\\\', '\\t', '\\n', '~', '\\x94', '\\x96', '’', '^', 'ì', '┾', '〨', '鈥']\n"
          ]
        }
      ],
      "source": [
        "text_field.build_vocab(train)\n",
        "print(text_field.vocab.stoi)\n",
        "print(text_field.vocab.itos)"
      ]
    },
    {
      "cell_type": "markdown",
      "source": [
        "text_field.vocab.stoi: string to integer, characters in dict map to indices\n",
        "\n",
        "text_field.vocab.itos: intgerger to string, indices map to characters in dict"
      ],
      "metadata": {
        "id": "st_vBprrnrZ-"
      }
    },
    {
      "cell_type": "markdown",
      "metadata": {
        "id": "TC8WVE8Ua90u"
      },
      "source": [
        "### Part (g) [2 pt]\n",
        "\n",
        "The tokens `<unk>` and `<pad>` were not in our SMS text messages.\n",
        "What do these two values represent?"
      ]
    },
    {
      "cell_type": "markdown",
      "source": [
        "'unk' represent the the unknow character, the character does not exist in the dataset\n",
        "\n",
        "'pad' represent the padding character"
      ],
      "metadata": {
        "id": "pkmEPxCpoj-U"
      }
    },
    {
      "cell_type": "markdown",
      "metadata": {
        "id": "Ff5CNk7Qa90y"
      },
      "source": [
        "### Part (h) [2 pt]\n",
        "\n",
        "Since text sequences are of variable length, `torchtext` provides a `BucketIterator` data loader,\n",
        "which batches similar length sequences together. The iterator also provides functionalities to\n",
        "pad sequences automatically.\n",
        "\n",
        "Take a look at 10 batches in `train_iter`. What is the maximum length of the\n",
        "input sequence in each batch? How many `<pad>` tokens are used in each of the 10\n",
        "batches?"
      ]
    },
    {
      "cell_type": "code",
      "execution_count": 34,
      "metadata": {
        "collapsed": true,
        "id": "V8N8qLWOa90y",
        "jupyter": {
          "outputs_hidden": true
        }
      },
      "outputs": [],
      "source": [
        "train_iter = torchtext.legacy.data.BucketIterator(train,\n",
        "                                           batch_size=32,\n",
        "                                           sort_key=lambda x: len(x.sms), # to minimize padding\n",
        "                                           sort_within_batch=True,        # sort within each batch\n",
        "                                           repeat=False)                  # repeat the iterator for many epochs"
      ]
    },
    {
      "cell_type": "code",
      "execution_count": 40,
      "metadata": {
        "colab": {
          "base_uri": "https://localhost:8080/"
        },
        "collapsed": true,
        "id": "Qwz-rOaha902",
        "jupyter": {
          "outputs_hidden": true
        },
        "outputId": "5d8b6140-c2f0-43ef-b00f-210902ffbff2"
      },
      "outputs": [
        {
          "output_type": "stream",
          "name": "stdout",
          "text": [
            "Batch: 2 Maximum lenghth of the input sequence: 75\n",
            "Number of used <pad> token: 32\n",
            "Batch: 3 Maximum lenghth of the input sequence: 90\n",
            "Number of used <pad> token: 22\n",
            "Batch: 4 Maximum lenghth of the input sequence: 57\n",
            "Number of used <pad> token: 69\n",
            "Batch: 5 Maximum lenghth of the input sequence: 134\n",
            "Number of used <pad> token: 36\n",
            "Batch: 6 Maximum lenghth of the input sequence: 114\n",
            "Number of used <pad> token: 18\n",
            "Batch: 7 Maximum lenghth of the input sequence: 149\n",
            "Number of used <pad> token: 0\n",
            "Batch: 8 Maximum lenghth of the input sequence: 121\n",
            "Number of used <pad> token: 25\n",
            "Batch: 9 Maximum lenghth of the input sequence: 95\n",
            "Number of used <pad> token: 44\n",
            "Batch: 10 Maximum lenghth of the input sequence: 79\n",
            "Number of used <pad> token: 57\n",
            "Batch: 11 Maximum lenghth of the input sequence: 179\n",
            "Number of used <pad> token: 181\n"
          ]
        }
      ],
      "source": [
        "i = 0\n",
        "for batch in train_iter:\n",
        "    if i == 10:\n",
        "        break\n",
        "    else:\n",
        "        i+=1\n",
        "    print(\"Batch:\", i+1, \"Maximum lenghth of the input sequence:\", int(batch.sms[1].max()))\n",
        "    num_pad = 0\n",
        "    for sms in batch.sms[1]:\n",
        "        num_pad += batch.sms[1].max() - sms\n",
        "    print(\"Number of used <pad> token:\", int(num_pad))"
      ]
    },
    {
      "cell_type": "markdown",
      "metadata": {
        "id": "y7HnqP6_a904"
      },
      "source": [
        "## Part 2. Model Building [8 pt]\n",
        "\n",
        "Build a recurrent neural network model, using an architecture of your choosing. \n",
        "Use the one-hot embedding of each character as input to your recurrent network.\n",
        "Use one or more fully-connected layers to make the prediction based on your\n",
        "recurrent network output.\n",
        "\n",
        "Instead of using the RNN output value for the final token, another often used\n",
        "strategy is to max-pool over the entire output array. That is, instead of calling\n",
        "something like:\n",
        "\n",
        "```\n",
        "out, _ = self.rnn(x)\n",
        "self.fc(out[:, -1, :])\n",
        "```\n",
        "\n",
        "where `self.rnn` is an `nn.RNN`, `nn.GRU`, or `nn.LSTM` module, and `self.fc` is a \n",
        "fully-connected \n",
        "layer, we use:\n",
        "\n",
        "```\n",
        "out, _ = self.rnn(x)\n",
        "self.fc(torch.max(out, dim=1)[0])\n",
        "```\n",
        "\n",
        "This works reasonably in practice. An even better alternative is to concatenate the\n",
        "max-pooling and average-pooling of the RNN outputs:\n",
        "\n",
        "```\n",
        "out, _ = self.rnn(x)\n",
        "out = torch.cat([torch.max(out, dim=1)[0], \n",
        "                 torch.mean(out, dim=1)], dim=1)\n",
        "self.fc(out)\n",
        "```\n",
        "\n",
        "We encourage you to try out all these options. The way you pool the RNN outputs\n",
        "is one of the \"hyperparameters\" that you can choose to tune later on."
      ]
    },
    {
      "cell_type": "code",
      "execution_count": 91,
      "metadata": {
        "colab": {
          "base_uri": "https://localhost:8080/"
        },
        "collapsed": true,
        "id": "jHl1p_Wwa905",
        "jupyter": {
          "outputs_hidden": true
        },
        "outputId": "5e6c57c6-b0c8-4942-8fe8-0ac93e5c3623"
      },
      "outputs": [
        {
          "output_type": "stream",
          "name": "stdout",
          "text": [
            "tensor([1., 0., 0., 0., 0., 0., 0., 0., 0., 0.])\n",
            "tensor([0., 1., 0., 0., 0., 0., 0., 0., 0., 0.])\n",
            "tensor([[[0., 1., 0., 0., 0., 0., 0., 0., 0., 0.],\n",
            "         [0., 0., 1., 0., 0., 0., 0., 0., 0., 0.]],\n",
            "\n",
            "        [[0., 0., 0., 1., 0., 0., 0., 0., 0., 0.],\n",
            "         [0., 0., 0., 0., 1., 0., 0., 0., 0., 0.]]])\n"
          ]
        }
      ],
      "source": [
        "# You might find this code helpful for obtaining\n",
        "# PyTorch one-hot vectors.\n",
        "\n",
        "ident = torch.eye(10)\n",
        "print(ident[0]) # one-hot vector\n",
        "print(ident[1]) # one-hot vector\n",
        "x = torch.tensor([[1, 2], [3, 4]])\n",
        "print(ident[x]) # one-hot vectors"
      ]
    },
    {
      "cell_type": "code",
      "execution_count": 116,
      "metadata": {
        "collapsed": true,
        "id": "4LTQ7zFka909",
        "jupyter": {
          "outputs_hidden": true
        }
      },
      "outputs": [],
      "source": [
        "class RNN(nn.Module):\n",
        "    def __init__(self, input_size, hidden_size, num_classes):\n",
        "        super(RNN, self).__init__()\n",
        "        self.emb = torch.eye(input_size)\n",
        "        self.hidden_size = hidden_size\n",
        "        self.rnn = nn.RNN(input_size, hidden_size, batch_first=True)\n",
        "        self.fc = nn.Linear(hidden_size, num_classes)\n",
        "    \n",
        "    def forward(self, x):\n",
        "        x = self.emb[x]\n",
        "        h0 = torch.zeros(1, x.size(0), self.hidden_size)\n",
        "        out, _ = self.rnn(x, h0)\n",
        "        out, _ = self.rnn(x)\n",
        "        #out = torch.cat([torch.max(out, dim=1)[0], torch.mean(out, dim=1)], dim=1)\n",
        "        #out = self.fc(out)\n",
        "        out= self.fc(torch.max(out, dim=1)[0])\n",
        "        \n",
        "        return out"
      ]
    },
    {
      "cell_type": "markdown",
      "metadata": {
        "id": "vKIYPl_Ba90_"
      },
      "source": [
        "## Part 3. Training [16 pt]\n",
        "\n",
        "### Part (a) [4 pt]\n",
        "\n",
        "Complete the `get_accuracy` function, which will compute the\n",
        "accuracy (rate) of your model across a dataset (e.g. validation set).\n",
        "You may modify `torchtext.data.BucketIterator` to make your computation\n",
        "faster."
      ]
    },
    {
      "cell_type": "code",
      "execution_count": 132,
      "metadata": {
        "collapsed": true,
        "id": "pvNfhGD6a91A",
        "jupyter": {
          "outputs_hidden": true
        }
      },
      "outputs": [],
      "source": [
        "def get_accuracy(model, data):\n",
        "    \"\"\" Compute the accuracy of the `model` across a dataloader `data`\n",
        "    \n",
        "    Example usage:\n",
        "    \n",
        "    >>> model = MyRNN() # to be defined\n",
        "    >>> get_accuracy(model, valid) # the variable `valid` is from above\n",
        "    \"\"\"\n",
        "    correct, total = 0, 0\n",
        "    for sms, labels in data:\n",
        "        output = model(sms[0])\n",
        "        pred = output.max(1, keepdim=True)[1]\n",
        "        correct += pred.eq(labels.view_as(pred)).sum().item()\n",
        "        total += labels.shape[0]\n",
        "    return correct / total"
      ]
    },
    {
      "cell_type": "markdown",
      "metadata": {
        "id": "TlxlcAC1a91C"
      },
      "source": [
        "### Part (b) [4 pt]\n",
        "\n",
        "Train your model. Plot the training curve of your final model. \n",
        "Your training curve should have the training/validation loss and\n",
        "accuracy plotted periodically.\n",
        "\n",
        "Note: Not all of your batches will have the same batch size.\n",
        "In particular, if your training set does not divide evenly by\n",
        "your batch size, there will be a batch that is smaller than\n",
        "the rest. "
      ]
    },
    {
      "cell_type": "code",
      "execution_count": 105,
      "metadata": {
        "collapsed": true,
        "id": "CVtf7CJCa91D",
        "jupyter": {
          "outputs_hidden": true
        }
      },
      "outputs": [],
      "source": [
        "import matplotlib.pyplot as plt\n",
        "def train_rnn_network(model, train, valid, num_epochs=5, learning_rate=1e-5):\n",
        "    criterion = nn.CrossEntropyLoss()\n",
        "    optimizer = torch.optim.Adam(model.parameters(), lr=learning_rate)\n",
        "    losses, train_acc, valid_acc = [], [], []\n",
        "    epochs = []\n",
        "    for epoch in range(num_epochs):\n",
        "        for sms, labels in train:\n",
        "            optimizer.zero_grad()\n",
        "            pred = model(sms[0])\n",
        "            loss = criterion(pred, labels)\n",
        "            loss.backward()\n",
        "            optimizer.step()\n",
        "        losses.append(float(loss))\n",
        "\n",
        "        epochs.append(epoch)\n",
        "        train_acc.append(get_accuracy(model, train))\n",
        "        valid_acc.append(get_accuracy(model, valid))\n",
        "        print(\"Epoch %d | Loss %f | Train Acc %f | Val Acc %f\" % (\n",
        "              epoch+1, loss, train_acc[-1], valid_acc[-1]))\n",
        "    # plotting\n",
        "    plt.title(\"Training Curve\")\n",
        "    plt.plot(losses, label=\"Train\")\n",
        "    plt.xlabel(\"Epoch\")\n",
        "    plt.ylabel(\"Loss\")\n",
        "    plt.show()\n",
        "\n",
        "    plt.title(\"Training Curve\")\n",
        "    plt.plot(epochs, train_acc, label=\"Train\")\n",
        "    plt.plot(epochs, valid_acc, label=\"Validation\")\n",
        "    plt.xlabel(\"Epoch\")\n",
        "    plt.ylabel(\"Accuracy\")\n",
        "    plt.legend(loc='best')\n",
        "    plt.show()"
      ]
    },
    {
      "cell_type": "code",
      "source": [
        "val_iter = torchtext.legacy.data.BucketIterator(val,\n",
        "                                           batch_size=32,\n",
        "                                           sort_key=lambda x: len(x.sms), # to minimize padding\n",
        "                                           sort_within_batch=True,        # sort within each batch\n",
        "                                           repeat=False)                  # repeat the iterator for many epochs\n",
        "\n",
        "test_iter = torchtext.legacy.data.BucketIterator(test,\n",
        "                                           batch_size=32,\n",
        "                                           sort_key=lambda x: len(x.sms), # to minimize padding\n",
        "                                           sort_within_batch=True,        # sort within each batch\n",
        "                                           repeat=False)                  # repeat the iterator for many epochs\n",
        "\n",
        "model = RNN(input_size=len(text_field.vocab.itos), hidden_size=50, num_classes=2)\n",
        "\n",
        "train_rnn_network(model, train_iter, val_iter, learning_rate=1e-4)"
      ],
      "metadata": {
        "colab": {
          "base_uri": "https://localhost:8080/",
          "height": 660
        },
        "id": "Jpbz4JNezdyR",
        "outputId": "f7a2d6b0-5d50-4ffd-edc1-b90cfcb6d1d8"
      },
      "execution_count": 118,
      "outputs": [
        {
          "output_type": "stream",
          "name": "stdout",
          "text": [
            "Epoch 1 | Loss 0.700542 | Train Acc 0.688530 | Val Acc 0.483408\n",
            "Epoch 2 | Loss 0.678049 | Train Acc 0.684868 | Val Acc 0.465471\n",
            "Epoch 3 | Loss 0.569038 | Train Acc 0.879141 | Val Acc 0.794619\n",
            "Epoch 4 | Loss 0.448448 | Train Acc 0.944731 | Val Acc 0.944395\n",
            "Epoch 5 | Loss 0.328538 | Train Acc 0.919927 | Val Acc 0.913004\n"
          ]
        },
        {
          "output_type": "display_data",
          "data": {
            "text/plain": [
              "<Figure size 432x288 with 1 Axes>"
            ],
            "image/png": "[encoded data removed]"
          },
          "metadata": {
            "needs_background": "light"
          }
        },
        {
          "output_type": "display_data",
          "data": {
            "text/plain": [
              "<Figure size 432x288 with 1 Axes>"
            ],
            "image/png": "[encoded data removed]"
          },
          "metadata": {
            "needs_background": "light"
          }
        }
      ]
    },
    {
      "cell_type": "markdown",
      "metadata": {
        "id": "fE3eRkDAa91F"
      },
      "source": [
        "### Part (c) [4 pt]\n",
        "\n",
        "Choose at least 4 hyperparameters to tune. Explain how you tuned the hyperparameters.\n",
        "You don't need to include your training curve for every model you trained.\n",
        "Instead, explain what hyperparemters you tuned, what the best validation accuracy was,\n",
        "and the reasoning behind the hyperparameter decisions you made.\n",
        "\n",
        "For this assignment, you should tune more than just your learning rate and epoch. \n",
        "Choose at least 2 hyperparameters that are unrelated to the optimizer."
      ]
    },
    {
      "cell_type": "code",
      "source": [
        "class RNN2(nn.Module):\n",
        "    def __init__(self, input_size, hidden_size, num_classes):\n",
        "        super(RNN2, self).__init__()\n",
        "        self.emb = torch.eye(input_size)\n",
        "        self.hidden_size = hidden_size\n",
        "        self.rnn = nn.RNN(input_size, hidden_size, batch_first=True)\n",
        "        self.fc = nn.Linear(2*hidden_size, num_classes)\n",
        "    \n",
        "    def forward(self, x):\n",
        "        x = self.emb[x]\n",
        "        h0 = torch.zeros(1, x.size(0), self.hidden_size)\n",
        "        out, _ = self.rnn(x, h0)\n",
        "        out, _ = self.rnn(x)\n",
        "        out = torch.cat([torch.max(out, dim=1)[0], torch.mean(out, dim=1)], dim=1)\n",
        "        out = self.fc(out)\n",
        "        \n",
        "        return out"
      ],
      "metadata": {
        "id": "VvtMYbR-_U7B"
      },
      "execution_count": 122,
      "outputs": []
    },
    {
      "cell_type": "markdown",
      "source": [
        "Initial: | Loss 0.328538 | Train Acc 0.919927 | Val Acc 0.913004\n",
        "\n",
        "1. Use a more effective max pool strategy: \n",
        "\n",
        "  Reason: want to use a max-pool strategy with the best performance\n",
        "  \n",
        "  Result: The Val Acc increased to 0.926457\n",
        "\n",
        "2. Change the learning rate: 1e-4->1e-3\n",
        "  \n",
        "  Reason: Want to speed up the trainning\n",
        "\n",
        "  Result: The Val Acc increased to 0.969507, which is very effective\n",
        "\n",
        "3. Increase the number of epoch: 5->20\n",
        "\n",
        "  Reason: The curve seems not plateaued, want to see the performance in a longer trainning period\n",
        "  \n",
        "  Result: The Val Acc increased to 0.95241, the curve starts to plateued after 8 epochs.\n",
        "4. Change the hidden size: 50->100\n",
        "\n",
        "  Reason: Seeing the effective of hidden size\n",
        "  \n",
        "  Result: The Val Acc increased to 0.960538, but shown some degree of flactuating\n",
        "5. Using a better max-pool strategy.  ///Best Model///\n",
        "\n",
        "  Increase the hidden_size: 50->100.  Increase the number of epochs: 5->20\n",
        "\n",
        "  Reason: combine the adavantages of previous tunning, see the performance of the model\n",
        "\n",
        "  Result: This is the best model, the Val Acc increased to 0.971300"
      ],
      "metadata": {
        "id": "0fjJ0rSw_5mq"
      }
    },
    {
      "cell_type": "code",
      "execution_count": 128,
      "metadata": {
        "colab": {
          "base_uri": "https://localhost:8080/",
          "height": 920
        },
        "collapsed": true,
        "id": "A2GEWfDca91G",
        "jupyter": {
          "outputs_hidden": true
        },
        "outputId": "8f23db0f-8e74-46f7-8bae-5e6febfc5ff7"
      },
      "outputs": [
        {
          "output_type": "stream",
          "name": "stdout",
          "text": [
            "Epoch 1 | Loss 0.719000 | Train Acc 0.517396 | Val Acc 0.125561\n",
            "Epoch 2 | Loss 0.656032 | Train Acc 0.928417 | Val Acc 0.883408\n",
            "Epoch 3 | Loss 0.439237 | Train Acc 0.920593 | Val Acc 0.939013\n",
            "Epoch 4 | Loss 0.178438 | Train Acc 0.941735 | Val Acc 0.953363\n",
            "Epoch 5 | Loss 0.215522 | Train Acc 0.956218 | Val Acc 0.940807\n",
            "Epoch 6 | Loss 0.340428 | Train Acc 0.958382 | Val Acc 0.953363\n",
            "Epoch 7 | Loss 0.175785 | Train Acc 0.958548 | Val Acc 0.962332\n",
            "Epoch 8 | Loss 0.308764 | Train Acc 0.963043 | Val Acc 0.962332\n",
            "Epoch 9 | Loss 0.133379 | Train Acc 0.963210 | Val Acc 0.955157\n",
            "Epoch 10 | Loss 0.061514 | Train Acc 0.967704 | Val Acc 0.965022\n",
            "Epoch 11 | Loss 0.042109 | Train Acc 0.968204 | Val Acc 0.965022\n",
            "Epoch 12 | Loss 0.050682 | Train Acc 0.967205 | Val Acc 0.965022\n",
            "Epoch 13 | Loss 0.019216 | Train Acc 0.969036 | Val Acc 0.956054\n",
            "Epoch 14 | Loss 0.136920 | Train Acc 0.971533 | Val Acc 0.968610\n",
            "Epoch 15 | Loss 0.232264 | Train Acc 0.933577 | Val Acc 0.895964\n",
            "Epoch 16 | Loss 0.026547 | Train Acc 0.963210 | Val Acc 0.971300\n",
            "Epoch 17 | Loss 0.107311 | Train Acc 0.970867 | Val Acc 0.967713\n",
            "Epoch 18 | Loss 0.022747 | Train Acc 0.973697 | Val Acc 0.963229\n",
            "Epoch 19 | Loss 0.195822 | Train Acc 0.974696 | Val Acc 0.961435\n",
            "Epoch 20 | Loss 0.068555 | Train Acc 0.969868 | Val Acc 0.971300\n"
          ]
        },
        {
          "output_type": "display_data",
          "data": {
            "text/plain": [
              "<Figure size 432x288 with 1 Axes>"
            ],
            "image/png": "[encoded data removed]"
          },
          "metadata": {
            "needs_background": "light"
          }
        },
        {
          "output_type": "display_data",
          "data": {
            "text/plain": [
              "<Figure size 432x288 with 1 Axes>"
            ],
            "image/png": "[encoded data removed]"
          },
          "metadata": {
            "needs_background": "light"
          }
        }
      ],
      "source": [
        "model2 = RNN2(input_size=len(text_field.vocab.itos), hidden_size=100, num_classes=2)\n",
        "\n",
        "train_rnn_network(model2, train_iter, val_iter, num_epochs=20, learning_rate=1e-4)"
      ]
    },
    {
      "cell_type": "markdown",
      "metadata": {
        "id": "v7DY56rKa91I"
      },
      "source": [
        "### Part (d) [2 pt]\n",
        "\n",
        "Before we deploy a machine learning model, we usually want to have a better understanding\n",
        "of how our model performs beyond its validation accuracy. An important metric to track is\n",
        "*how well our model performs in certain subsets of the data*.\n",
        "\n",
        "In particular, what is the model's error rate amongst data with negative labels?\n",
        "This is called the **false positive rate**.\n",
        "\n",
        "What about the model's error rate amongst data with positive labels?\n",
        "This is called the **false negative rate**.\n",
        "\n",
        "Report your final model's false positive and false negative rate across the\n",
        "validation set."
      ]
    },
    {
      "cell_type": "code",
      "source": [
        "# Create a Dataset of only spam validation examples\n",
        "valid_spam = torchtext.legacy.data.Dataset(\n",
        "    [e for e in val.examples if e.label == 1],\n",
        "    val.fields)\n",
        "# Create a Dataset of only non-spam validation examples\n",
        "valid_nospam = torchtext.legacy.data.Dataset(\n",
        "    [e for e in val.examples if e.label == 0],\n",
        "    val.fields)\n",
        "\n",
        "valid_spam_iter = torchtext.legacy.data.BucketIterator(valid_spam,\n",
        "                                           batch_size=32,\n",
        "                                           sort_key=lambda x: len(x.sms), # to minimize padding\n",
        "                                           sort_within_batch=True,        # sort within each batch\n",
        "                                           repeat=False)                  # repeat the iterator for many epochs\n",
        "valid_nospam_iter = torchtext.legacy.data.BucketIterator(valid_nospam,\n",
        "                                           batch_size=32,\n",
        "                                           sort_key=lambda x: len(x.sms), # to minimize padding\n",
        "                                           sort_within_batch=True,        # sort within each batch\n",
        "                                           repeat=False)                  # repeat the iterator for many epochs\n",
        "\n",
        "spam_acc = get_accuracy(model2, valid_spam_iter)\n",
        "nospam_acc = get_accuracy(model2, valid_nospam_iter)\n",
        "\n",
        "print(\"false positive rate:\", (1-nospam_acc))\n",
        "print(\"false negative rate:\", (1-spam_acc))\n"
      ],
      "metadata": {
        "colab": {
          "base_uri": "https://localhost:8080/"
        },
        "id": "98_76iqMFjga",
        "outputId": "ee52b82b-8728-4941-8f27-03284eb4dcc5"
      },
      "execution_count": 153,
      "outputs": [
        {
          "output_type": "stream",
          "name": "stdout",
          "text": [
            "false positive rate: 0.017435897435897463\n",
            "false negative rate: 0.09999999999999998\n"
          ]
        }
      ]
    },
    {
      "cell_type": "markdown",
      "metadata": {
        "id": "N1iRteb3a91O"
      },
      "source": [
        "### Part (e) [2 pt]\n",
        "\n",
        "The impact of a false positive vs a false negative can be drastically different.\n",
        "If our spam detection algorithm was deployed on your phone, what is the impact\n",
        "of a false positive on the phone's user? What is the impact of a false negative?"
      ]
    },
    {
      "cell_type": "markdown",
      "source": [
        "False positive means it is not a spam but the model recognize it as a spam. \n",
        "This may cause the user failed to receive the valuable message because the algorithm has blocked it.\n",
        "\n",
        "False negative means it is a spam but the model recognize it as a non-spam. It means the user will received the unwanted spam message and the algorithm does not successfully detect it is a spam."
      ],
      "metadata": {
        "id": "Pls-JQSGNjyx"
      }
    },
    {
      "cell_type": "markdown",
      "metadata": {
        "id": "Gznefulsa91V"
      },
      "source": [
        "## Part 4. Evaluation [11 pt]\n",
        "\n",
        "### Part (a) [1 pt]\n",
        "\n",
        "Report the final test accuracy of your model."
      ]
    },
    {
      "cell_type": "code",
      "execution_count": 149,
      "metadata": {
        "colab": {
          "base_uri": "https://localhost:8080/"
        },
        "collapsed": true,
        "id": "D5L5D-A1a91W",
        "jupyter": {
          "outputs_hidden": true
        },
        "outputId": "897d9704-d368-4f5d-e2e4-5bea57b844df"
      },
      "outputs": [
        {
          "output_type": "stream",
          "name": "stdout",
          "text": [
            "0.9730700179533214\n"
          ]
        }
      ],
      "source": [
        "print(get_accuracy(model2, test_iter))"
      ]
    },
    {
      "cell_type": "markdown",
      "metadata": {
        "id": "6Hjmd8rca91Y"
      },
      "source": [
        "### Part (b) [3 pt]\n",
        "\n",
        "Report the false positive rate and false negative rate of your model across the test set."
      ]
    },
    {
      "cell_type": "code",
      "execution_count": 154,
      "metadata": {
        "colab": {
          "base_uri": "https://localhost:8080/"
        },
        "collapsed": true,
        "id": "GFiAKztJa91Z",
        "jupyter": {
          "outputs_hidden": true
        },
        "outputId": "066f43d4-5bfd-46d1-8e4e-85edb410c848"
      },
      "outputs": [
        {
          "output_type": "stream",
          "name": "stdout",
          "text": [
            "false positive rate: 0.017435897435897463\n",
            "false negative rate: 0.09999999999999998\n"
          ]
        }
      ],
      "source": [
        "# Create a Dataset of only spam test examples\n",
        "test_spam = torchtext.legacy.data.Dataset(\n",
        "    [e for e in val.examples if e.label == 1],\n",
        "    test.fields)\n",
        "# Create a Dataset of only non-spam test examples\n",
        "test_nospam = torchtext.legacy.data.Dataset(\n",
        "    [e for e in val.examples if e.label == 0],\n",
        "    test.fields)\n",
        "\n",
        "test_spam_iter = torchtext.legacy.data.BucketIterator(test_spam,\n",
        "                                           batch_size=32,\n",
        "                                           sort_key=lambda x: len(x.sms), # to minimize padding\n",
        "                                           sort_within_batch=True,        # sort within each batch\n",
        "                                           repeat=False)                  # repeat the iterator for many epochs\n",
        "test_nospam_iter = torchtext.legacy.data.BucketIterator(test_nospam,\n",
        "                                           batch_size=32,\n",
        "                                           sort_key=lambda x: len(x.sms), # to minimize padding\n",
        "                                           sort_within_batch=True,        # sort within each batch\n",
        "                                           repeat=False)                  # repeat the iterator for many epochs\n",
        "\n",
        "spam_acc = get_accuracy(model2, test_spam_iter)\n",
        "nospam_acc = get_accuracy(model2, test_nospam_iter)\n",
        "\n",
        "print(\"false positive rate:\", (1-nospam_acc))\n",
        "print(\"false negative rate:\", (1-spam_acc))"
      ]
    },
    {
      "cell_type": "markdown",
      "metadata": {
        "id": "0jGHtQFpa91b"
      },
      "source": [
        "### Part (c) [3 pt]\n",
        "\n",
        "What is your model's prediction of the **probability** that\n",
        "the SMS message \"machine learning is sooo cool!\" is spam?\n",
        "\n",
        "Hint: To begin, use `text_field.vocab.stoi` to look up the index\n",
        "of each character in the vocabulary."
      ]
    },
    {
      "cell_type": "code",
      "execution_count": 155,
      "metadata": {
        "colab": {
          "base_uri": "https://localhost:8080/"
        },
        "collapsed": true,
        "id": "h_2nSJq8a91b",
        "jupyter": {
          "outputs_hidden": true
        },
        "outputId": "16972c51-7908-46dc-f17d-1d2e3ae12f3c"
      },
      "outputs": [
        {
          "output_type": "stream",
          "name": "stdout",
          "text": [
            "The probability that the SMS message 'machine learning is sooo cool!' is spam is: 0.04813644289970398\n"
          ]
        }
      ],
      "source": [
        "msg = \"machine learning is sooo cool!\"\n",
        "\n",
        "msg_i = []\n",
        "\n",
        "for i in msg:\n",
        "    msg_i.append(text_field.vocab.stoi[i])\n",
        "\n",
        "msg_tensor = torch.tensor(msg_i).unsqueeze(0)\n",
        "pred = model2(msg_tensor)\n",
        "prob = F.softmax(pred, dim=1)\n",
        "print(\"The probability that the SMS message 'machine learning is sooo cool!' is spam is:\", float(prob[0][1]))"
      ]
    },
    {
      "cell_type": "markdown",
      "metadata": {
        "id": "QD1zgYJpa91f"
      },
      "source": [
        "### Part (d) [4 pt]\n",
        "\n",
        "Do you think detecting spam is an easy or difficult task?\n",
        "\n",
        "Since machine learning models are expensive to train and deploy, it is very\n",
        "important to compare our models against baseline models: a simple\n",
        "model that is easy to build and inexpensive to run that we can compare our\n",
        "recurrent neural network model against.\n",
        "\n",
        "Explain how you might build a simple baseline model. This baseline model\n",
        "can be a simple neural network (with very few weights), a hand-written algorithm,\n",
        "or any other strategy that is easy to build and test.\n",
        "\n",
        "**Do not actually build a baseline model. Instead, provide instructions on\n",
        "how to build it.**"
      ]
    },
    {
      "cell_type": "markdown",
      "source": [
        "I think it is difficult to accurately detecting every spam message, particularlt those spams that are creating by human not auto-generated from computer. However, if you just want to blocked most of the spam that is obvious to see, it is not a very difficult task.\n",
        "\n",
        "The simple baseline model I would like to build is simply scan through the entire message, and found the keywords in that, such as: Lucky, Surprise, Free, etc.. These words are frequently appears in a spam and if the ratio of these words in a sentence is too high, then it has a great possibility that it is a spam.\n",
        "\n",
        "Another thing it may consider is the contact information from the sender, if the sender is a stranger or you have no previous contact with him/her, and the history of your conversation has a high rate of those target words appears, then the message received from the sender is very likely to be a spam."
      ],
      "metadata": {
        "id": "k3x5yB7wRkep"
      }
    }
  ],
  "metadata": {
    "colab": {
      "collapsed_sections": [],
      "provenance": []
    },
    "kernelspec": {
      "display_name": "Python 3 (ipykernel)",
      "language": "python",
      "name": "python3"
    },
    "language_info": {
      "codemirror_mode": {
        "name": "ipython",
        "version": 3
      },
      "file_extension": ".py",
      "mimetype": "text/x-python",
      "name": "python",
      "nbconvert_exporter": "python",
      "pygments_lexer": "ipython3",
      "version": "3.9.4"
    }
  },
  "nbformat": 4,
  "nbformat_minor": 0
}