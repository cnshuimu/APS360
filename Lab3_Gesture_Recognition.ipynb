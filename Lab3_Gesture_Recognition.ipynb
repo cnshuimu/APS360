{
  "cells": [
    {
      "cell_type": "markdown",
      "metadata": {
        "id": "X6WDvajSqIDs"
      },
      "source": [
        "# Lab 3: Gesture Recognition using Convolutional Neural Networks\n",
        "\n",
        "In this lab you will train a convolutional neural network to make classifications on different hand gestures. By the end of the lab, you should be able to:\n",
        "\n",
        "1. Load and split data for training, validation and testing\n",
        "2. Train a Convolutional Neural Network\n",
        "3. Apply transfer learning to improve your model\n",
        "\n",
        "Note that for this lab we will not be providing you with any starter code. You should be able to take the code used in previous labs, tutorials and lectures and modify it accordingly to complete the tasks outlined below.\n",
        "\n",
        "### What to submit\n",
        "\n",
        "Submit a PDF file containing all your code, outputs, and write-up\n",
        "from parts 1-5. You can produce a PDF of your Google Colab file by\n",
        "going to **File > Print** and then save as PDF. The Colab instructions\n",
        "has more information. Make sure to review the PDF submission to ensure that your answers are easy to read. Make sure that your text is not cut off at the margins. \n",
        "\n",
        "**Do not submit any other files produced by your code.**\n",
        "\n",
        "Include a link to your colab file in your submission.\n",
        "\n",
        "Please use Google Colab to complete this assignment. If you want to use Jupyter Notebook, please complete the assignment and upload your Jupyter Notebook file to Google Colab for submission. "
      ]
    },
    {
      "cell_type": "markdown",
      "metadata": {
        "id": "LfiFE_WOqIDu"
      },
      "source": [
        "## Colab Link\n",
        "\n",
        "Include a link to your colab file here\n",
        "\n",
        "Colab Link: https://colab.research.google.com/drive/1TSRJEk1Rido4C3aGh4rPTydF9Q4z6uy-?usp=sharing "
      ]
    },
    {
      "cell_type": "markdown",
      "metadata": {
        "id": "kvTXpH_kqIDy"
      },
      "source": [
        "## Dataset\n",
        "\n",
        "American Sign Language (ASL) is a complete, complex language that employs signs made by moving the\n",
        "hands combined with facial expressions and postures of the body. It is the primary language of many\n",
        "North Americans who are deaf and is one of several communication options used by people who are deaf or\n",
        "hard-of-hearing. The hand gestures representing English alphabet are shown below. This lab focuses on classifying a subset\n",
        "of these hand gesture images using convolutional neural networks. Specifically, given an image of a hand\n",
        "showing one of the letters A-I, we want to detect which letter is being represented.\n",
        "\n",
        "![alt text](https://www.disabled-world.com/pics/1/asl-alphabet.jpg)"
      ]
    },
    {
      "cell_type": "markdown",
      "metadata": {
        "id": "bJxMgWGNqID2"
      },
      "source": [
        "## Part B. Building a CNN [50 pt]\n",
        "\n",
        "For this lab, we are not going to give you any starter code. You will be writing a convolutional neural network\n",
        "from scratch. You are welcome to use any code from previous labs, lectures and tutorials. You should also\n",
        "write your own code.\n",
        "\n",
        "You may use the PyTorch documentation freely. You might also find online tutorials helpful. However, all\n",
        "code that you submit must be your own.\n",
        "\n",
        "Make sure that your code is vectorized, and does not contain obvious inefficiencies (for example, unecessary\n",
        "for loops, or unnecessary calls to unsqueeze()). Ensure enough comments are included in the code so that\n",
        "your TA can understand what you are doing. It is your responsibility to show that you understand what you\n",
        "write.\n",
        "\n",
        "**This is much more challenging and time-consuming than the previous labs.** Make sure that you\n",
        "give yourself plenty of time by starting early."
      ]
    },
    {
      "cell_type": "markdown",
      "metadata": {
        "id": "MiDuQaAh56sT"
      },
      "source": [
        "### 1. Data Loading and Splitting [5 pt]\n",
        "\n",
        "Download the anonymized data provided on Quercus. To allow you to get a heads start on this project we will provide you with sample data from previous years. Split the data into training, validation, and test sets.\n",
        "\n",
        "Note: Data splitting is not as trivial in this lab. We want our test set to closely resemble the setting in which\n",
        "our model will be used. In particular, our test set should contain hands that are never seen in training!\n",
        "\n",
        "Explain how you split the data, either by describing what you did, or by showing the code that you used.\n",
        "Justify your choice of splitting strategy. How many training, validation, and test images do you have?\n",
        "\n",
        "For loading the data, you can use plt.imread as in Lab 1, or any other method that you choose. You may find\n",
        "torchvision.datasets.ImageFolder helpful. (see https://pytorch.org/docs/stable/torchvision/datasets.html?highlight=image%20folder#torchvision.datasets.ImageFolder\n",
        ") "
      ]
    },
    {
      "cell_type": "code",
      "execution_count": null,
      "metadata": {
        "colab": {
          "base_uri": "https://localhost:8080/"
        },
        "collapsed": true,
        "id": "WBrH5kBqRLa6",
        "jupyter": {
          "outputs_hidden": true
        },
        "outputId": "ae6a3922-7b20-4795-861b-a0ddddc19420"
      },
      "outputs": [
        {
          "output_type": "stream",
          "name": "stdout",
          "text": [
            "Mounted at /content/gdrive\n"
          ]
        }
      ],
      "source": [
        "import numpy as np\n",
        "import time\n",
        "import torch\n",
        "import torch.nn as nn\n",
        "import torch.nn.functional as F\n",
        "import torch.optim as optim\n",
        "import torchvision\n",
        "from torch.utils.data.sampler import SubsetRandomSampler\n",
        "import torchvision.transforms as transforms\n",
        "import matplotlib.pyplot as plt\n",
        "\n",
        "from google.colab import drive\n",
        "drive.mount('/content/gdrive')"
      ]
    },
    {
      "cell_type": "code",
      "source": [
        "path = '/content/gdrive/My Drive/Colab Notebooks/APS360_labs/lab3/Lab_3b_Gesture_Dataset/'\n",
        "\n",
        "transform = transforms.Compose([transforms.Resize((224,224)), transforms.ToTensor()])\n",
        "\n",
        "train_dataset = torchvision.datasets.ImageFolder(path + \"Trainning\", transform=transform)\n",
        "val_dataset = torchvision.datasets.ImageFolder(path + \"Validation\", transform=transform)\n",
        "test_dataset = torchvision.datasets.ImageFolder(path + \"Testing\", transform=transform)\n"
      ],
      "metadata": {
        "id": "MChJmkRvVr6Y"
      },
      "execution_count": null,
      "outputs": []
    },
    {
      "cell_type": "markdown",
      "source": [
        "I splitted the data manually to make the ratio of train data : validation data : test data = 6:2:2"
      ],
      "metadata": {
        "id": "oPvHP2S0j2hp"
      }
    },
    {
      "cell_type": "markdown",
      "metadata": {
        "id": "5VWX4DGY5gQE"
      },
      "source": [
        "### 2. Model Building and Sanity Checking [15 pt]\n",
        "\n",
        "### Part (a) Convolutional Network - 5 pt\n",
        "\n",
        "Build a convolutional neural network model that takes the (224x224 RGB) image as input, and predicts the gesture\n",
        "letter. Your model should be a subclass of nn.Module. Explain your choice of neural network architecture: how\n",
        "many layers did you choose? What types of layers did you use? Were they fully-connected or convolutional?\n",
        "What about other decisions like pooling layers, activation functions, number of channels / hidden units?"
      ]
    },
    {
      "cell_type": "code",
      "execution_count": null,
      "metadata": {
        "collapsed": true,
        "id": "2dtx1z5951fS",
        "jupyter": {
          "outputs_hidden": true
        }
      },
      "outputs": [],
      "source": [
        "class CNN(nn.Module):\n",
        "    # My CNN has 2 covolutional layers and 2 fully connected layers\n",
        "    # pooling layes is using max-pooling with size of 2x2\n",
        "    # Using Relu activation function\n",
        "\n",
        "    def __init__(self):\n",
        "        super(CNN, self).__init__()\n",
        "        self.name = \"CNN\"\n",
        "        self.conv1 = nn.Conv2d(3, 5, 5) #input channel = 3; output channel = 5; kernel size = 5\n",
        "        self.pool = nn.MaxPool2d(2, 2)\n",
        "        self.conv2 = nn.Conv2d(5, 10, 5) #input channel = 5; output channel = 10; kernel size = 5\n",
        "        self.fc1 = nn.Linear(10 * 53 * 53, 32)\n",
        "        self.fc2 = nn.Linear(32, 9) #32 hidden units, 9 outputs\n",
        "\n",
        "    def forward(self, x):\n",
        "        x = self.pool(F.relu(self.conv1(x))) \n",
        "        x = self.pool(F.relu(self.conv2(x)))\n",
        "        x = x.view(-1, 10 * 53 * 53)\n",
        "        x = F.relu(self.fc1(x))\n",
        "        x = self.fc2(x)\n",
        "        return x"
      ]
    },
    {
      "cell_type": "markdown",
      "metadata": {
        "id": "XeGvelvb515e"
      },
      "source": [
        "### Part (b) Training Code - 5 pt\n",
        "\n",
        "Write code that trains your neural network given some training data. Your training code should make it easy\n",
        "to tweak the usual hyperparameters, like batch size, learning rate, and the model object itself. Make sure\n",
        "that you are checkpointing your models from time to time (the frequency is up to you). Explain your choice\n",
        "of loss function and optimizer."
      ]
    },
    {
      "cell_type": "code",
      "execution_count": null,
      "metadata": {
        "collapsed": true,
        "id": "17YTQv4l54W1",
        "jupyter": {
          "outputs_hidden": true
        }
      },
      "outputs": [],
      "source": [
        "def get_accuracy(net, loader):\n",
        "    correct = 0\n",
        "    total = 0\n",
        "    for inputs, labels in loader:\n",
        "        \n",
        "        if use_cuda and torch.cuda.is_available():\n",
        "            inputs = inputs.cuda()\n",
        "            labels = labels.cuda()\n",
        "\n",
        "        output = net(inputs)\n",
        "        #select index with maximum prediction score\n",
        "        pred = output.max(1, keepdim=True)[1]\n",
        "        correct += pred.eq(labels.view_as(pred)).sum().item()\n",
        "        total += inputs.shape[0]\n",
        "    return correct / total"
      ]
    },
    {
      "cell_type": "code",
      "source": [
        "def get_model_name(name, batch_size, learning_rate, epoch):\n",
        "    \"\"\" Generate a name for the model consisting of all the hyperparameter values\n",
        "\n",
        "    Args:\n",
        "        config: Configuration object containing the hyperparameters\n",
        "    Returns:\n",
        "        path: A string with the hyperparameter name and value concatenated\n",
        "    \"\"\"\n",
        "    path = \"model_{0}_bs{1}_lr{2}_epoch{3}\".format(name,\n",
        "                                                   batch_size,\n",
        "                                                   learning_rate,\n",
        "                                                   epoch)\n",
        "    return path"
      ],
      "metadata": {
        "id": "A_HOrgp6sJXx"
      },
      "execution_count": null,
      "outputs": []
    },
    {
      "cell_type": "code",
      "source": [
        "def train(net, train_dataset, val_dataset, batch_size=128, num_epochs=20, learning_rate=0.001):\n",
        "    torch.manual_seed(1000)\n",
        "    criterion = nn.CrossEntropyLoss() #cross entropy loss function\n",
        "    optimizer = optim.Adam(net.parameters(), lr=learning_rate) #Adam optimizer\n",
        "\n",
        "    train_loader = torch.utils.data.DataLoader(train_dataset, batch_size=batch_size, shuffle=True)\n",
        "    val_loader = torch.utils.data.DataLoader(val_dataset, batch_size=batch_size, shuffle=True)\n",
        "\n",
        "    train_acc = np.zeros(num_epochs)\n",
        "    val_acc = np.zeros(num_epochs)\n",
        "\n",
        "    # Train the network\n",
        "    print(\"Start...\")\n",
        "    # Loop over the data iterator and sample a new batch of training data\n",
        "    for epoch in range(num_epochs):\n",
        "        total_train_loss = 0.0\n",
        "        total_train_err = 0.0\n",
        "        total_images = 0\n",
        "        for inputs, labels in iter(train_loader): \n",
        "\n",
        "            if use_cuda and torch.cuda.is_available():\n",
        "                inputs = inputs.cuda()\n",
        "                labels = labels.cuda()\n",
        "            # Zero the parameter gradients\n",
        "            optimizer.zero_grad()    \n",
        "            # Forward pass, backward pass, and optimize     \n",
        "            outputs = net(inputs)             \n",
        "            loss = criterion(outputs, labels) \n",
        "            loss.backward()               \n",
        "            optimizer.step()  \n",
        "        \n",
        "        # Trainning and validtion accuracy\n",
        "        train_acc[epoch] = get_accuracy(net, train_loader)\n",
        "        val_acc[epoch] = get_accuracy(net, val_loader)\n",
        "\n",
        "        print((\"Epoch {}: Train acc: {} |\" + \"Validation acc: {}\").format(epoch, train_acc[epoch], val_acc[epoch]))\n",
        "\n",
        "        model_path = get_model_name(net.name, batch_size, learning_rate, epoch)\n",
        "        torch.save(net.state_dict(), model_path)\n",
        "\n",
        "    epochs = np.arange(0, num_epochs)\n",
        "\n",
        "    plt.plot(epochs, train_acc)\n",
        "    plt.title(\"Training Curve\")\n",
        "    plt.xlabel(\"Epochs\")\n",
        "    plt.ylabel(\"Training Accuracy\")\n",
        "    plt.show()\n",
        "\n",
        "    plt.plot(epochs, val_acc)\n",
        "    plt.title(\"Validation Curve\")\n",
        "    plt.xlabel(\"Epochs\")\n",
        "    plt.ylabel(\"Validation Accuracy\")\n",
        "    plt.show()"
      ],
      "metadata": {
        "id": "rCMFRf78V_n6"
      },
      "execution_count": null,
      "outputs": []
    },
    {
      "cell_type": "markdown",
      "source": [
        "I chose Adam optimizer and cross entropy loss function is because in the lecture we detailed talk about their advantages, and they are generally used in the area of image processing."
      ],
      "metadata": {
        "id": "ouo5cznrUwDH"
      }
    },
    {
      "cell_type": "markdown",
      "metadata": {
        "id": "bk1RNgAj54rZ"
      },
      "source": [
        "### Part (c) “Overfit” to a Small Dataset - 5 pt\n",
        "\n",
        "One way to sanity check our neural network model and training code is to check whether the model is capable\n",
        "of “overfitting” or “memorizing” a small dataset. A properly constructed CNN with correct training code\n",
        "should be able to memorize the answers to a small number of images quickly.\n",
        "\n",
        "Construct a small dataset (e.g. just the images that you have collected). Then show that your model and\n",
        "training code is capable of memorizing the labels of this small data set.\n",
        "\n",
        "With a large batch size (e.g. the entire small dataset) and learning rate that is not too high, You should be\n",
        "able to obtain a 100% training accuracy on that small dataset relatively quickly (within 200 iterations)."
      ]
    },
    {
      "cell_type": "code",
      "source": [
        "def train_overfit(net, train_loader, batch_size=27, num_epochs=20, learning_rate = 0.001):\n",
        "    torch.manual_seed(1000)\n",
        "    criterion = nn.CrossEntropyLoss()\n",
        "    optimizer = optim.Adam(net.parameters(), lr=learning_rate)\n",
        "\n",
        "    train_acc = np.zeros(num_epochs)\n",
        "\n",
        "    for epoch in range(num_epochs):\n",
        "        for inputs, labels in iter(train_loader):\n",
        "            \n",
        "            if use_cuda and torch.cuda.is_available():\n",
        "                inputs = inputs.cuda()\n",
        "                labels = labels.cuda()\n",
        "            # Zero the parameter gradients\n",
        "            optimizer.zero_grad()    \n",
        "            # Forward pass, backward pass, and optimize     \n",
        "            outputs = net(inputs)             \n",
        "            loss = criterion(outputs, labels) \n",
        "            loss.backward()               \n",
        "            optimizer.step()              \n",
        "\n",
        "        # trainning accuracy\n",
        "        train_acc[epoch] = get_accuracy(net, train_loader)\n",
        "        print(\"Epoch: {}, Accuracy: {}\".format(epoch, train_acc[epoch]))\n",
        "                    \n",
        "    return train_acc"
      ],
      "metadata": {
        "id": "Hek1VnpWWD6f"
      },
      "execution_count": null,
      "outputs": []
    },
    {
      "cell_type": "code",
      "source": [
        "overfit_path = '/content/gdrive/My Drive/Colab Notebooks/APS360_labs/lab3/Lab_3b_Gesture_Dataset/Overfit'\n",
        "\n",
        "transform = transforms.Compose([transforms.Resize((224,224)), transforms.ToTensor()])\n",
        "\n",
        "overfit_dataset = torchvision.datasets.ImageFolder(overfit_path, transform=transform)\n",
        "\n",
        "overfit_loader = torch.utils.data.DataLoader(overfit_dataset, batch_size=27, num_workers=1, shuffle=True)\n"
      ],
      "metadata": {
        "id": "7KagSRaiWF8A"
      },
      "execution_count": null,
      "outputs": []
    },
    {
      "cell_type": "code",
      "source": [
        "CNN1 = CNN()\n",
        "if use_cuda and torch.cuda.is_available():\n",
        "  CNN1.cuda()\n",
        "\n",
        "train_overfit(CNN1, small_loader, num_epochs=20);"
      ],
      "metadata": {
        "colab": {
          "base_uri": "https://localhost:8080/"
        },
        "id": "gY1AWuLWbboq",
        "outputId": "3d7401ce-2bda-4a35-c95e-15035768c871"
      },
      "execution_count": null,
      "outputs": [
        {
          "output_type": "stream",
          "name": "stdout",
          "text": [
            "Epoch: 0, Accuracy: 0.1111111111111111\n",
            "Epoch: 1, Accuracy: 0.1111111111111111\n",
            "Epoch: 2, Accuracy: 0.14814814814814814\n",
            "Epoch: 3, Accuracy: 0.4444444444444444\n",
            "Epoch: 4, Accuracy: 0.5185185185185185\n",
            "Epoch: 5, Accuracy: 0.6666666666666666\n",
            "Epoch: 6, Accuracy: 0.7407407407407407\n",
            "Epoch: 7, Accuracy: 0.9259259259259259\n",
            "Epoch: 8, Accuracy: 0.9629629629629629\n",
            "Epoch: 9, Accuracy: 0.9259259259259259\n",
            "Epoch: 10, Accuracy: 1.0\n",
            "Epoch: 11, Accuracy: 0.9259259259259259\n",
            "Epoch: 12, Accuracy: 1.0\n",
            "Epoch: 13, Accuracy: 1.0\n",
            "Epoch: 14, Accuracy: 1.0\n",
            "Epoch: 15, Accuracy: 1.0\n",
            "Epoch: 16, Accuracy: 1.0\n",
            "Epoch: 17, Accuracy: 1.0\n",
            "Epoch: 18, Accuracy: 1.0\n",
            "Epoch: 19, Accuracy: 1.0\n"
          ]
        }
      ]
    },
    {
      "cell_type": "markdown",
      "metadata": {
        "id": "nvDLw-Vz6eVS"
      },
      "source": [
        "### 3. Hyperparameter Search [10 pt]\n",
        "\n",
        "### Part (a) - 1 pt\n",
        "\n",
        "List 3 hyperparameters that you think are most worth tuning. Choose at least one hyperparameter related to\n",
        "the model architecture."
      ]
    },
    {
      "cell_type": "markdown",
      "source": [
        "The 3 hyperparameters I chose are: batch size, learning rate, kernal size of layers"
      ],
      "metadata": {
        "id": "MrB-G95T4EIS"
      }
    },
    {
      "cell_type": "markdown",
      "metadata": {
        "id": "zeD6EzPB6kSW"
      },
      "source": [
        "### Part (b) - 5 pt\n",
        "\n",
        "Tune the hyperparameters you listed in Part (a), trying as many values as you need to until you feel satisfied\n",
        "that you are getting a good model. Plot the training curve of at least 4 different hyperparameter settings."
      ]
    },
    {
      "cell_type": "code",
      "execution_count": null,
      "metadata": {
        "colab": {
          "base_uri": "https://localhost:8080/",
          "height": 937
        },
        "collapsed": true,
        "id": "HXRQbgMqR_Qy",
        "jupyter": {
          "outputs_hidden": true
        },
        "outputId": "bd7464f7-1165-4834-a7fc-f4753a1837c3"
      },
      "outputs": [
        {
          "output_type": "stream",
          "name": "stdout",
          "text": [
            "Start...\n",
            "Epoch 0: Train acc: 0.31815091774303195 |Validation acc: 0.2604166666666667\n",
            "Epoch 1: Train acc: 0.39768864717878993 |Validation acc: 0.35\n",
            "Epoch 2: Train acc: 0.6261046906866078 |Validation acc: 0.5583333333333333\n",
            "Epoch 3: Train acc: 0.6866077498300476 |Validation acc: 0.5854166666666667\n",
            "Epoch 4: Train acc: 0.7307953772943576 |Validation acc: 0.6229166666666667\n",
            "Epoch 5: Train acc: 0.7552685248130524 |Validation acc: 0.60625\n",
            "Epoch 6: Train acc: 0.761386811692726 |Validation acc: 0.6\n",
            "Epoch 7: Train acc: 0.7980965329707682 |Validation acc: 0.6041666666666666\n",
            "Epoch 8: Train acc: 0.822569680489463 |Validation acc: 0.6395833333333333\n",
            "Epoch 9: Train acc: 0.8273283480625425 |Validation acc: 0.6166666666666667\n",
            "Epoch 10: Train acc: 0.8416043507817811 |Validation acc: 0.6395833333333333\n",
            "Epoch 11: Train acc: 0.8565601631543168 |Validation acc: 0.6208333333333333\n",
            "Epoch 12: Train acc: 0.8857919782460911 |Validation acc: 0.64375\n",
            "Epoch 13: Train acc: 0.9014276002719238 |Validation acc: 0.6375\n",
            "Epoch 14: Train acc: 0.8810333106730116 |Validation acc: 0.6270833333333333\n",
            "Epoch 15: Train acc: 0.9272603670972128 |Validation acc: 0.6416666666666667\n",
            "Epoch 16: Train acc: 0.9320190346702923 |Validation acc: 0.6375\n",
            "Epoch 17: Train acc: 0.9462950373895309 |Validation acc: 0.6395833333333333\n",
            "Epoch 18: Train acc: 0.9612508497620667 |Validation acc: 0.64375\n",
            "Epoch 19: Train acc: 0.9530931339225017 |Validation acc: 0.6291666666666667\n"
          ]
        },
        {
          "output_type": "display_data",
          "data": {
            "text/plain": [
              "<Figure size 432x288 with 1 Axes>"
            ],
            "image/png": "[encoded data removed]"
          },
          "metadata": {
            "needs_background": "light"
          }
        },
        {
          "output_type": "display_data",
          "data": {
            "text/plain": [
              "<Figure size 432x288 with 1 Axes>"
            ],
            "image/png": "[encoded data removed]"
          },
          "metadata": {
            "needs_background": "light"
          }
        }
      ],
      "source": [
        "# 1. Default Setting: batch_size=128, num_epochs=20, learning_rate=0.001\n",
        "CNN2 = CNN()\n",
        "if use_cuda and torch.cuda.is_available():\n",
        "    CNN2.cuda()\n",
        "\n",
        "train(CNN2, train_dataset, val_dataset)"
      ]
    },
    {
      "cell_type": "code",
      "source": [
        "# 2. Increases in batch size\n",
        "CNN3 = CNN()\n",
        "if use_cuda and torch.cuda.is_available():\n",
        "    CNN3.cuda()\n",
        "\n",
        "train(CNN3, train_dataset, val_dataset, batch_size=512, num_epochs=10, learning_rate=0.001)"
      ],
      "metadata": {
        "colab": {
          "base_uri": "https://localhost:8080/",
          "height": 764
        },
        "id": "NDoi9fnx5nLl",
        "outputId": "92849f50-07dc-415b-993c-fd2e4446056e"
      },
      "execution_count": null,
      "outputs": [
        {
          "output_type": "stream",
          "name": "stdout",
          "text": [
            "Start...\n",
            "Epoch 0: Train acc: 0.9055064581917063 |Validation acc: 0.6208333333333333\n",
            "Epoch 1: Train acc: 0.9014276002719238 |Validation acc: 0.6208333333333333\n",
            "Epoch 2: Train acc: 0.9347382732834806 |Validation acc: 0.61875\n",
            "Epoch 3: Train acc: 0.9299796057104011 |Validation acc: 0.6166666666666667\n",
            "Epoch 4: Train acc: 0.9456152277362339 |Validation acc: 0.6520833333333333\n",
            "Epoch 5: Train acc: 0.9483344663494222 |Validation acc: 0.6416666666666667\n",
            "Epoch 6: Train acc: 0.9612508497620667 |Validation acc: 0.6291666666666667\n",
            "Epoch 7: Train acc: 0.9660095173351462 |Validation acc: 0.6125\n",
            "Epoch 8: Train acc: 0.973487423521414 |Validation acc: 0.6291666666666667\n",
            "Epoch 9: Train acc: 0.9714479945615228 |Validation acc: 0.6291666666666667\n"
          ]
        },
        {
          "output_type": "display_data",
          "data": {
            "text/plain": [
              "<Figure size 432x288 with 1 Axes>"
            ],
            "image/png": "[encoded data removed]"
          },
          "metadata": {
            "needs_background": "light"
          }
        },
        {
          "output_type": "display_data",
          "data": {
            "text/plain": [
              "<Figure size 432x288 with 1 Axes>"
            ],
            "image/png": "[encoded data removed]"
          },
          "metadata": {
            "needs_background": "light"
          }
        }
      ]
    },
    {
      "cell_type": "code",
      "source": [
        "# 3. Increases in learning rate\n",
        "CNN4 = CNN()\n",
        "if use_cuda and torch.cuda.is_available():\n",
        "    CNN4.cuda()\n",
        "\n",
        "train(CNN4, train_dataset, val_dataset, batch_size=128, num_epochs=10, learning_rate=0.003)"
      ],
      "metadata": {
        "colab": {
          "base_uri": "https://localhost:8080/",
          "height": 764
        },
        "id": "jifsPiE757-u",
        "outputId": "a3d4b237-7bd4-48e9-ee4f-effe53e6fb43"
      },
      "execution_count": null,
      "outputs": [
        {
          "output_type": "stream",
          "name": "stdout",
          "text": [
            "Start...\n",
            "Epoch 0: Train acc: 0.12372535690006799 |Validation acc: 0.125\n",
            "Epoch 1: Train acc: 0.2868796736913664 |Validation acc: 0.24791666666666667\n",
            "Epoch 2: Train acc: 0.5003399048266486 |Validation acc: 0.36041666666666666\n",
            "Epoch 3: Train acc: 0.592114208021754 |Validation acc: 0.48333333333333334\n",
            "Epoch 4: Train acc: 0.6682528891910265 |Validation acc: 0.54375\n",
            "Epoch 5: Train acc: 0.7294357579877634 |Validation acc: 0.6145833333333334\n",
            "Epoch 6: Train acc: 0.7627464309993202 |Validation acc: 0.61875\n",
            "Epoch 7: Train acc: 0.7403127124405167 |Validation acc: 0.56875\n",
            "Epoch 8: Train acc: 0.7824609109449354 |Validation acc: 0.59375\n",
            "Epoch 9: Train acc: 0.7709041468388851 |Validation acc: 0.5833333333333334\n"
          ]
        },
        {
          "output_type": "display_data",
          "data": {
            "text/plain": [
              "<Figure size 432x288 with 1 Axes>"
            ],
            "image/png": "[encoded data removed]"
          },
          "metadata": {
            "needs_background": "light"
          }
        },
        {
          "output_type": "display_data",
          "data": {
            "text/plain": [
              "<Figure size 432x288 with 1 Axes>"
            ],
            "image/png": "[encoded data removed]"
          },
          "metadata": {
            "needs_background": "light"
          }
        }
      ]
    },
    {
      "cell_type": "code",
      "source": [
        "class CNN_k(nn.Module):\n",
        "      def __init__(self):\n",
        "          self.name = \"CNN_k\"\n",
        "          super(CNN_k, self).__init__()\n",
        "          self.conv1 = nn.Conv2d(3, 5, 5) #in_channels=3, out_chanels=5, kernel_size=5\n",
        "          self.pool = nn.MaxPool2d(2, 2) #kernel_size=2, stride=2 \n",
        "          self.conv2 = nn.Conv2d(5, 10, 11) #in_channels=5, out_chanels=10, kernel_size=11\n",
        "          self.fc1 = nn.Linear(10*50*50, 32)\n",
        "          self.fc2 = nn.Linear(32, 9)\n",
        "\n",
        "      def forward(self, x):\n",
        "          x = self.pool(F.relu(self.conv1(x))) #relu activation function\n",
        "          x = self.pool(F.relu(self.conv2(x))) #relu activation function\n",
        "          x = x.view(-1, 10*50*50)\n",
        "          x = F.relu(self.fc1(x)) #relu activation function\n",
        "          x = self.fc2(x)\n",
        "          return x"
      ],
      "metadata": {
        "id": "5o6aiBpU62fE"
      },
      "execution_count": null,
      "outputs": []
    },
    {
      "cell_type": "code",
      "source": [
        "# 4. Increases in kernal size\n",
        "CNN5 = CNN_k()\n",
        "if use_cuda and torch.cuda.is_available():\n",
        "    CNN5.cuda()\n",
        "\n",
        "train(CNN5, train_dataset, val_dataset, batch_size=128, num_epochs=20, learning_rate=0.001)"
      ],
      "metadata": {
        "colab": {
          "base_uri": "https://localhost:8080/",
          "height": 937
        },
        "id": "Vcw5uz2Q6FPi",
        "outputId": "9adf1d95-5d47-45ee-881d-cfac4e280a63"
      },
      "execution_count": null,
      "outputs": [
        {
          "output_type": "stream",
          "name": "stdout",
          "text": [
            "Start...\n",
            "Epoch 0: Train acc: 0.2794017675050986 |Validation acc: 0.24791666666666667\n",
            "Epoch 1: Train acc: 0.37661454792658056 |Validation acc: 0.30416666666666664\n",
            "Epoch 2: Train acc: 0.6206662134602311 |Validation acc: 0.5208333333333334\n",
            "Epoch 3: Train acc: 0.7335146159075459 |Validation acc: 0.6083333333333333\n",
            "Epoch 4: Train acc: 0.7335146159075459 |Validation acc: 0.6166666666666667\n",
            "Epoch 5: Train acc: 0.7382732834806254 |Validation acc: 0.625\n",
            "Epoch 6: Train acc: 0.7688647178789939 |Validation acc: 0.6458333333333334\n",
            "Epoch 7: Train acc: 0.778382053025153 |Validation acc: 0.6125\n",
            "Epoch 8: Train acc: 0.769544527532291 |Validation acc: 0.6395833333333333\n",
            "Epoch 9: Train acc: 0.7974167233174712 |Validation acc: 0.6666666666666666\n",
            "Epoch 10: Train acc: 0.8252889191026512 |Validation acc: 0.66875\n",
            "Epoch 11: Train acc: 0.8450033990482665 |Validation acc: 0.6854166666666667\n",
            "Epoch 12: Train acc: 0.8395649218218899 |Validation acc: 0.6666666666666666\n",
            "Epoch 13: Train acc: 0.8429639700883752 |Validation acc: 0.6770833333333334\n",
            "Epoch 14: Train acc: 0.8388851121685927 |Validation acc: 0.66875\n",
            "Epoch 15: Train acc: 0.8640380693405847 |Validation acc: 0.6604166666666667\n",
            "Epoch 16: Train acc: 0.8436437797416724 |Validation acc: 0.65625\n",
            "Epoch 17: Train acc: 0.8524813052345344 |Validation acc: 0.65625\n",
            "Epoch 18: Train acc: 0.8633582596872875 |Validation acc: 0.6583333333333333\n",
            "Epoch 19: Train acc: 0.9007477906186268 |Validation acc: 0.68125\n"
          ]
        },
        {
          "output_type": "display_data",
          "data": {
            "text/plain": [
              "<Figure size 432x288 with 1 Axes>"
            ],
            "image/png": "[encoded data removed]"
          },
          "metadata": {
            "needs_background": "light"
          }
        },
        {
          "output_type": "display_data",
          "data": {
            "text/plain": [
              "<Figure size 432x288 with 1 Axes>"
            ],
            "image/png": "[encoded data removed]"
          },
          "metadata": {
            "needs_background": "light"
          }
        }
      ]
    },
    {
      "cell_type": "code",
      "source": [
        "# 5. Increase in batch_size & kernal size\n",
        "CNN6 = CNN_k()\n",
        "if use_cuda and torch.cuda.is_available():\n",
        "    CNN6.cuda()\n",
        "\n",
        "train(CNN6, train_dataset, val_dataset, batch_size=512, num_epochs=10, learning_rate=0.001)"
      ],
      "metadata": {
        "colab": {
          "base_uri": "https://localhost:8080/",
          "height": 764
        },
        "id": "1NrG2SUZ6Is4",
        "outputId": "01f16873-fb05-4f8c-8871-38e1d79cece5"
      },
      "execution_count": null,
      "outputs": [
        {
          "output_type": "stream",
          "name": "stdout",
          "text": [
            "Start...\n",
            "Epoch 0: Train acc: 0.1114887831407206 |Validation acc: 0.10833333333333334\n",
            "Epoch 1: Train acc: 0.1230455472467709 |Validation acc: 0.1125\n",
            "Epoch 2: Train acc: 0.256288239292998 |Validation acc: 0.20833333333333334\n",
            "Epoch 3: Train acc: 0.2460910944935418 |Validation acc: 0.21875\n",
            "Epoch 4: Train acc: 0.33854520734194427 |Validation acc: 0.26666666666666666\n",
            "Epoch 5: Train acc: 0.41196464989802856 |Validation acc: 0.33541666666666664\n",
            "Epoch 6: Train acc: 0.34466349422161796 |Validation acc: 0.29791666666666666\n",
            "Epoch 7: Train acc: 0.4969408565601632 |Validation acc: 0.39166666666666666\n",
            "Epoch 8: Train acc: 0.46498980285520053 |Validation acc: 0.4041666666666667\n",
            "Epoch 9: Train acc: 0.5411284840244731 |Validation acc: 0.43333333333333335\n"
          ]
        },
        {
          "output_type": "display_data",
          "data": {
            "text/plain": [
              "<Figure size 432x288 with 1 Axes>"
            ],
            "image/png": "[encoded data removed]"
          },
          "metadata": {
            "needs_background": "light"
          }
        },
        {
          "output_type": "display_data",
          "data": {
            "text/plain": [
              "<Figure size 432x288 with 1 Axes>"
            ],
            "image/png": "[encoded data removed]"
          },
          "metadata": {
            "needs_background": "light"
          }
        }
      ]
    },
    {
      "cell_type": "code",
      "execution_count": null,
      "metadata": {
        "colab": {
          "base_uri": "https://localhost:8080/",
          "height": 937
        },
        "collapsed": true,
        "id": "UkvdR-cB6nzm",
        "jupyter": {
          "outputs_hidden": true
        },
        "outputId": "cd054032-8d52-4d81-afbf-95bdfb969884"
      },
      "outputs": [
        {
          "output_type": "stream",
          "name": "stdout",
          "text": [
            "Start...\n",
            "Epoch 0: Train acc: 0.3555404486743712 |Validation acc: 0.3020833333333333\n",
            "Epoch 1: Train acc: 0.6356220258327668 |Validation acc: 0.54375\n",
            "Epoch 2: Train acc: 0.7226376614547927 |Validation acc: 0.5645833333333333\n",
            "Epoch 3: Train acc: 0.6961250849762066 |Validation acc: 0.5520833333333334\n",
            "Epoch 4: Train acc: 0.761386811692726 |Validation acc: 0.5958333333333333\n",
            "Epoch 5: Train acc: 0.7912984364377974 |Validation acc: 0.6395833333333333\n",
            "Epoch 6: Train acc: 0.8069340584636302 |Validation acc: 0.65\n",
            "Epoch 7: Train acc: 0.8416043507817811 |Validation acc: 0.65625\n",
            "Epoch 8: Train acc: 0.8599592114208022 |Validation acc: 0.68125\n",
            "Epoch 9: Train acc: 0.8959891230455472 |Validation acc: 0.6708333333333333\n",
            "Epoch 10: Train acc: 0.9340584636301835 |Validation acc: 0.6791666666666667\n",
            "Epoch 11: Train acc: 0.9632902787219578 |Validation acc: 0.6854166666666667\n",
            "Epoch 12: Train acc: 0.981645139360979 |Validation acc: 0.6854166666666667\n",
            "Epoch 13: Train acc: 0.9870836165873556 |Validation acc: 0.7041666666666667\n",
            "Epoch 14: Train acc: 0.9898028552005439 |Validation acc: 0.70625\n",
            "Epoch 15: Train acc: 0.9979605710401088 |Validation acc: 0.69375\n",
            "Epoch 16: Train acc: 1.0 |Validation acc: 0.7\n",
            "Epoch 17: Train acc: 1.0 |Validation acc: 0.6916666666666667\n",
            "Epoch 18: Train acc: 0.9993201903467029 |Validation acc: 0.70625\n",
            "Epoch 19: Train acc: 0.9986403806934059 |Validation acc: 0.69375\n"
          ]
        },
        {
          "output_type": "display_data",
          "data": {
            "text/plain": [
              "<Figure size 432x288 with 1 Axes>"
            ],
            "image/png": "[encoded data removed]"
          },
          "metadata": {
            "needs_background": "light"
          }
        },
        {
          "output_type": "display_data",
          "data": {
            "text/plain": [
              "<Figure size 432x288 with 1 Axes>"
            ],
            "image/png": "[encoded data removed]"
          },
          "metadata": {
            "needs_background": "light"
          }
        }
      ],
      "source": [
        "# 6. Increase in learning rate & kernal size\n",
        "CNN7 = CNN_k()\n",
        "if use_cuda and torch.cuda.is_available():\n",
        "    CNN7.cuda()\n",
        "\n",
        "train(CNN7, train_dataset, val_dataset, batch_size=128, num_epochs=20, learning_rate=0.003)"
      ]
    },
    {
      "cell_type": "markdown",
      "metadata": {
        "id": "H93iN5_l60BO"
      },
      "source": [
        "### Part (c) - 2 pt\n",
        "Choose the best model out of all the ones that you have trained. Justify your choice."
      ]
    },
    {
      "cell_type": "code",
      "execution_count": null,
      "metadata": {
        "collapsed": true,
        "id": "kIhcN7IG6zRO",
        "jupyter": {
          "outputs_hidden": true
        }
      },
      "outputs": [],
      "source": [
        "#The best model I got is when batch_size=128, num_epochs=19, learning_rate=0.003, \n",
        "#kernal size = 5 in first convolutional layer, and kernal size = 11 in second convolutional layer\n",
        "#The best validation accuracy I can get is 70.625%"
      ]
    },
    {
      "cell_type": "markdown",
      "metadata": {
        "id": "QzNA5oup67JO"
      },
      "source": [
        "### Part (d) - 2 pt\n",
        "Report the test accuracy of your best model. You should only do this step once and prior to this step you should have only used the training and validation data."
      ]
    },
    {
      "cell_type": "code",
      "execution_count": null,
      "metadata": {
        "colab": {
          "base_uri": "https://localhost:8080/"
        },
        "collapsed": true,
        "id": "2eJ7AbVl6-ax",
        "jupyter": {
          "outputs_hidden": true
        },
        "outputId": "7d7e4044-8aca-4249-cdc9-c81fb395700f"
      },
      "outputs": [
        {
          "output_type": "execute_result",
          "data": {
            "text/plain": [
              "0.7020833333333333"
            ]
          },
          "metadata": {},
          "execution_count": 169
        }
      ],
      "source": [
        "test_loader = torch.utils.data.DataLoader(test_dataset, batch_size=128, num_workers=1, shuffle=True)\n",
        "get_accuracy(CNN7, test_loader)"
      ]
    },
    {
      "cell_type": "markdown",
      "metadata": {
        "id": "Wrem-iXV6_Bz"
      },
      "source": [
        "### 4. Transfer Learning [15 pt]\n",
        "For many image classification tasks, it is generally not a good idea to train a very large deep neural network\n",
        "model from scratch due to the enormous compute requirements and lack of sufficient amounts of training\n",
        "data.\n",
        "\n",
        "One of the better options is to try using an existing model that performs a similar task to the one you need\n",
        "to solve. This method of utilizing a pre-trained network for other similar tasks is broadly termed **Transfer\n",
        "Learning**. In this assignment, we will use Transfer Learning to extract features from the hand gesture\n",
        "images. Then, train a smaller network to use these features as input and classify the hand gestures.\n",
        "\n",
        "As you have learned from the CNN lecture, convolution layers extract various features from the images which\n",
        "get utilized by the fully connected layers for correct classification. AlexNet architecture played a pivotal\n",
        "role in establishing Deep Neural Nets as a go-to tool for image classification problems and we will use an\n",
        "ImageNet pre-trained AlexNet model to extract features in this assignment."
      ]
    },
    {
      "cell_type": "markdown",
      "metadata": {
        "id": "rWdQJz4Q7O2F"
      },
      "source": [
        "### Part (a) - 5 pt\n",
        "Here is the code to load the AlexNet network, with pretrained weights. When you first run the code, PyTorch\n",
        "will download the pretrained weights from the internet."
      ]
    },
    {
      "cell_type": "code",
      "execution_count": null,
      "metadata": {
        "colab": {
          "base_uri": "https://localhost:8080/",
          "height": 156,
          "referenced_widgets": [
            "4e5f7bdbd72a4991a576f3d0a975e8c9",
            "7af8f4d6991949b5833b171dbf0a6e9e",
            "2a5b8a322eb34fe7ae5c8c7eacc0633d",
            "c04c3718857f4a7691d104e5c85a3b63",
            "cf177997feb94c308a3583059a0d3d8b",
            "59555926dbee4f789747966a632b8e9f",
            "e32c4a77c9464b3089bf4ffd1ffeb190",
            "ef0a3beab5a5460c9988309f5f37d4cf",
            "53cbc71c0e3248d18200084096af44e7",
            "b2009d09dcd54bb2a54dc2f63874f46e",
            "d5ca226b705f4b7f8c9078dcfcca141d"
          ]
        },
        "collapsed": true,
        "id": "BJKcTW9C7TZk",
        "jupyter": {
          "outputs_hidden": true
        },
        "outputId": "d478867c-e4e2-4fcc-c101-3089fc893c66"
      },
      "outputs": [
        {
          "output_type": "stream",
          "name": "stderr",
          "text": [
            "/usr/local/lib/python3.7/dist-packages/torchvision/models/_utils.py:209: UserWarning: The parameter 'pretrained' is deprecated since 0.13 and will be removed in 0.15, please use 'weights' instead.\n",
            "  f\"The parameter '{pretrained_param}' is deprecated since 0.13 and will be removed in 0.15, \"\n",
            "/usr/local/lib/python3.7/dist-packages/torchvision/models/_utils.py:223: UserWarning: Arguments other than a weight enum or `None` for 'weights' are deprecated since 0.13 and will be removed in 0.15. The current behavior is equivalent to passing `weights=AlexNet_Weights.IMAGENET1K_V1`. You can also use `weights=AlexNet_Weights.DEFAULT` to get the most up-to-date weights.\n",
            "  warnings.warn(msg)\n",
            "Downloading: \"https://download.pytorch.org/models/alexnet-owt-7be5be79.pth\" to /root/.cache/torch/hub/checkpoints/alexnet-owt-7be5be79.pth\n"
          ]
        },
        {
          "output_type": "display_data",
          "data": {
            "text/plain": [
              "  0%|          | 0.00/233M [00:00<?, ?B/s]"
            ],
            "application/vnd.jupyter.widget-view+json": {
              "version_major": 2,
              "version_minor": 0,
              "model_id": "4e5f7bdbd72a4991a576f3d0a975e8c9"
            }
          },
          "metadata": {}
        }
      ],
      "source": [
        "import torchvision.models\n",
        "alexnet = torchvision.models.alexnet(pretrained=True)"
      ]
    },
    {
      "cell_type": "markdown",
      "metadata": {
        "id": "NQ0GZYaP7VAR"
      },
      "source": [
        "The alexnet model is split up into two components: *alexnet.features* and *alexnet.classifier*. The\n",
        "first neural network component, *alexnet.features*, is used to compute convolutional features, which are\n",
        "taken as input in *alexnet.classifier*.\n",
        "\n",
        "The neural network alexnet.features expects an image tensor of shape Nx3x224x224 as input and it will\n",
        "output a tensor of shape Nx256x6x6 . (N = batch size).\n",
        "\n",
        "Compute the AlexNet features for each of your training, validation, and test data. Here is an example code\n",
        "snippet showing how you can compute the AlexNet features for some images (your actual code might be\n",
        "different):"
      ]
    },
    {
      "cell_type": "code",
      "execution_count": null,
      "metadata": {
        "collapsed": true,
        "id": "oX7SjVdB7XAE",
        "jupyter": {
          "outputs_hidden": true
        }
      },
      "outputs": [],
      "source": [
        "# img = ... a PyTorch tensor with shape [N,3,224,224] containing hand images ...\n",
        "features = alexnet.features(img)"
      ]
    },
    {
      "cell_type": "markdown",
      "metadata": {
        "id": "DYcjHg_A7cCM"
      },
      "source": [
        "**Save the computed features**. You will be using these features as input to your neural network in Part\n",
        "(b), and you do not want to re-compute the features every time. Instead, run *alexnet.features* once for\n",
        "each image, and save the result."
      ]
    },
    {
      "cell_type": "code",
      "execution_count": null,
      "metadata": {
        "collapsed": true,
        "id": "TBo1BpL373LX",
        "jupyter": {
          "outputs_hidden": true
        }
      },
      "outputs": [],
      "source": [
        "import os\n",
        "\n",
        "classes = ['A', 'B', 'C', 'D', 'E', 'F', 'G', 'H', 'I']\n",
        "\n",
        "train_loader_f = torch.utils.data.DataLoader(train_dataset, batch_size=1, num_workers=1, shuffle=True)\n",
        "val_loader_f = torch.utils.data.DataLoader(val_dataset, batch_size=1, num_workers=1, shuffle=True)\n",
        "test_loader_f = torch.utils.data.DataLoader(test_dataset, batch_size=1, num_workers=1, shuffle=True)\n",
        "\n",
        "path_f = '/content/gdrive/My Drive/Colab Notebooks/APS360_labs/lab3/features'\n",
        "\n",
        "n = 0\n",
        "for img, label in train_loader_f:\n",
        "    features = alexnet.features(img)\n",
        "    f_tensor = torch.from_numpy(features.detach().numpy())\n",
        "    folder_name = path_f + '/train'\n",
        "    folder_name = \"/\".join([folder_name, str(classes[label])])\n",
        "    if not os.path.isdir(folder_name):\n",
        "        os.mkdir(folder_name)\n",
        "    torch.save(f_tensor.squeeze(0), folder_name + '/' + str(n) + '.tensor')\n",
        "    n += 1"
      ]
    },
    {
      "cell_type": "code",
      "source": [
        "n = 0\n",
        "for img, label in val_loader_f:\n",
        "    features = alexnet.features(img)\n",
        "    f_tensor = torch.from_numpy(features.detach().numpy())\n",
        "    folder_name = path_f + '/valid' \n",
        "    folder_name = \"/\".join([folder_name, str(classes[label])])\n",
        "    if not os.path.isdir(folder_name):\n",
        "        os.mkdir(folder_name)\n",
        "    torch.save(f_tensor.squeeze(0), folder_name + '/' + str(n) + '.tensor')\n",
        "    n += 1"
      ],
      "metadata": {
        "id": "sg3rVbjmKi7u"
      },
      "execution_count": null,
      "outputs": []
    },
    {
      "cell_type": "code",
      "source": [
        "n = 0\n",
        "for img, label in test_loader_f:\n",
        "    features = alexnet.features(img)\n",
        "    f_tensor = torch.from_numpy(features.detach().numpy())\n",
        "    folder_name = path_f + '/test'\n",
        "    folder_name = \"/\".join([folder_name, str(classes[label])])\n",
        "    if not os.path.isdir(folder_name):\n",
        "        os.mkdir(folder_name)\n",
        "    torch.save(f_tensor.squeeze(0), folder_name + '/' + str(n) + '.tensor')\n",
        "    n += 1"
      ],
      "metadata": {
        "id": "65gpQhNBKkfb"
      },
      "execution_count": null,
      "outputs": []
    },
    {
      "cell_type": "markdown",
      "metadata": {
        "id": "OFWvvhFN73qY"
      },
      "source": [
        "### Part (b) - 3 pt\n",
        "Build a convolutional neural network model that takes as input these AlexNet features, and makes a\n",
        "prediction. Your model should be a subclass of nn.Module.\n",
        "\n",
        "Explain your choice of neural network architecture: how many layers did you choose? What types of layers\n",
        "did you use: fully-connected or convolutional? What about other decisions like pooling layers, activation\n",
        "functions, number of channels / hidden units in each layer?\n",
        "\n",
        "Here is an example of how your model may be called:"
      ]
    },
    {
      "cell_type": "code",
      "execution_count": null,
      "metadata": {
        "collapsed": true,
        "id": "oVTuHUeV78-U",
        "jupyter": {
          "outputs_hidden": true
        }
      },
      "outputs": [],
      "source": [
        "# features = ... load precomputed alexnet.features(img) ...\n",
        "output = model(features)\n",
        "prob = F.softmax(output)"
      ]
    },
    {
      "cell_type": "code",
      "source": [
        "train_f = torchvision.datasets.DatasetFolder(path_f + '/train', loader=torch.load, extensions=('.tensor'))\n",
        "valid_f = torchvision.datasets.DatasetFolder(path_f + '/valid', loader=torch.load, extensions=('.tensor'))\n",
        "test_f = torchvision.datasets.DatasetFolder(path_f + '/test', loader=torch.load, extensions=('.tensor'))\n",
        "\n",
        "train_loader_ft = torch.utils.data.DataLoader(train_f, batch_size=32, num_workers=1, shuffle=True)\n",
        "val_loader_ft = torch.utils.data.DataLoader(valid_f, batch_size=32, num_workers=1, shuffle=True)\n",
        "test_loader_ft = torch.utils.data.DataLoader(test_f, batch_size=32, num_workers=1, shuffle=True)"
      ],
      "metadata": {
        "id": "JoppDoDcMoaN"
      },
      "execution_count": null,
      "outputs": []
    },
    {
      "cell_type": "code",
      "source": [
        "class CNN_t(nn.Module):\n",
        "    def __init__(self):\n",
        "        super(CNN_t, self).__init__()\n",
        "        self.name = \"CNN_t\"\n",
        "        self.conv1 = nn.Conv2d(256, 256, 3, padding=1)\n",
        "        self.pool = nn.MaxPool2d(2, 2)\n",
        "        self.fc1 = nn.Linear(256 * 3 * 3, 32)\n",
        "        self.fc2 = nn.Linear(32, 9) \n",
        "\n",
        "    def forward(self, x):\n",
        "        x = self.pool(F.relu(self.conv1(x)))\n",
        "        x = x.view(-1, 256 * 3 * 3)\n",
        "        x = F.relu(self.fc1(x))\n",
        "        x = self.fc2(x)\n",
        "        #x = F.softmax(x, dim=1)\n",
        "        return x  "
      ],
      "metadata": {
        "id": "tV_3XnRQNHKv"
      },
      "execution_count": null,
      "outputs": []
    },
    {
      "cell_type": "markdown",
      "source": [
        "I chose to use 1 convolution layer and 1 max-pooling layer, the reason to decreases 1 layer compare to the original CNN model is because the feature of the data have already been extracted by AlexNet once, I think it is no need to do the second layer to extract the extra features. \n",
        "The activation I used is Relu.\n"
      ],
      "metadata": {
        "id": "7zj_n-CDQDBA"
      }
    },
    {
      "cell_type": "markdown",
      "metadata": {
        "id": "wVAGuURu7-9q"
      },
      "source": [
        "### Part (c) - 5 pt\n",
        "Train your new network, including any hyperparameter tuning. Plot and submit the training curve of your\n",
        "best model only.\n",
        "\n",
        "Note: Depending on how you are caching (saving) your AlexNet features, PyTorch might still be tracking\n",
        "updates to the **AlexNet weights**, which we are not tuning. One workaround is to convert your AlexNet\n",
        "feature tensor into a numpy array, and then back into a PyTorch tensor."
      ]
    },
    {
      "cell_type": "code",
      "source": [
        "transfer = CNN_t()\n",
        "if use_cuda and torch.cuda.is_available():\n",
        "  transfer.cuda()\n",
        "\n",
        "train(transfer, train_f, valid_f, batch_size=128, num_epochs=13)"
      ],
      "metadata": {
        "colab": {
          "base_uri": "https://localhost:8080/",
          "height": 816
        },
        "id": "V5ENUgYcPM_1",
        "outputId": "8e523973-28c1-4366-e658-c0f47ff4f834"
      },
      "execution_count": null,
      "outputs": [
        {
          "output_type": "stream",
          "name": "stdout",
          "text": [
            "Start...\n",
            "Epoch 0: Train acc: 0.8956241032998565 |Validation acc: 0.7429805615550756\n",
            "Epoch 1: Train acc: 0.9687948350071736 |Validation acc: 0.785097192224622\n",
            "Epoch 2: Train acc: 0.9860114777618364 |Validation acc: 0.7926565874730022\n",
            "Epoch 3: Train acc: 0.9949784791965567 |Validation acc: 0.7840172786177105\n",
            "Epoch 4: Train acc: 0.9949784791965567 |Validation acc: 0.8056155507559395\n",
            "Epoch 5: Train acc: 0.9992826398852224 |Validation acc: 0.8012958963282938\n",
            "Epoch 6: Train acc: 0.9992826398852224 |Validation acc: 0.8153347732181425\n",
            "Epoch 7: Train acc: 0.9992826398852224 |Validation acc: 0.7958963282937365\n",
            "Epoch 8: Train acc: 1.0 |Validation acc: 0.8120950323974082\n",
            "Epoch 9: Train acc: 1.0 |Validation acc: 0.8196544276457883\n",
            "Epoch 10: Train acc: 1.0 |Validation acc: 0.8153347732181425\n",
            "Epoch 11: Train acc: 1.0 |Validation acc: 0.8153347732181425\n",
            "Epoch 12: Train acc: 1.0 |Validation acc: 0.8207343412526998\n"
          ]
        },
        {
          "output_type": "display_data",
          "data": {
            "text/plain": [
              "<Figure size 432x288 with 1 Axes>"
            ],
            "image/png": "[encoded data removed]"
          },
          "metadata": {
            "needs_background": "light"
          }
        },
        {
          "output_type": "display_data",
          "data": {
            "text/plain": [
              "<Figure size 432x288 with 1 Axes>"
            ],
            "image/png": "[encoded data removed]"
          },
          "metadata": {
            "needs_background": "light"
          }
        }
      ]
    },
    {
      "cell_type": "markdown",
      "source": [
        "The test accuracy aquired from the best model using transfer learning is 82.07%, which is much higher compared to the 70.625% test accuracy obtained from the best model using CNN"
      ],
      "metadata": {
        "id": "prCUzg3BXJWR"
      }
    },
    {
      "cell_type": "markdown",
      "metadata": {
        "id": "hQ2tvqJ68Mqb"
      },
      "source": [
        "### Part (d) - 2 pt\n",
        "Report the test accuracy of your best model. How does the test accuracy compare to Part 3(d) without transfer learning?"
      ]
    },
    {
      "cell_type": "code",
      "execution_count": null,
      "metadata": {
        "colab": {
          "base_uri": "https://localhost:8080/"
        },
        "collapsed": true,
        "id": "yCp_kFSg8Q2T",
        "jupyter": {
          "outputs_hidden": true
        },
        "outputId": "f56ad871-5945-47c3-b33d-5f496aeb190f"
      },
      "outputs": [
        {
          "output_type": "execute_result",
          "data": {
            "text/plain": [
              "0.8625"
            ]
          },
          "metadata": {},
          "execution_count": 247
        }
      ],
      "source": [
        "get_accuracy(transfer, test_loader_ft)"
      ]
    },
    {
      "cell_type": "markdown",
      "source": [
        "The test accuracy aquired from the best model using transfer learning is 86.25%, which is much higher compared to the 70.208% test accuracy obtained from the best model using CNN"
      ],
      "metadata": {
        "id": "MHQBuK9uel2M"
      }
    },
    {
      "cell_type": "markdown",
      "metadata": {
        "id": "__63KgS7TE7x"
      },
      "source": [
        "### 5. Additional Testing [5 pt]\n",
        "As a final step in testing we will be revisiting the sample images that you had collected and submitted at the start of this lab. These sample images should be untouched and will be used to demonstrate how well your model works at identifying your hand guestures. \n",
        "\n",
        "Using the best transfer learning model developed in Part 4. Report the test accuracy on your sample images and how it compares to the test accuracy obtained in Part 4(d)? How well did your model do for the different hand guestures? Provide an explanation for why you think your model performed the way it did?"
      ]
    },
    {
      "cell_type": "code",
      "source": [
        "classes = ['A', 'B', 'C', 'D', 'E', 'F', 'G', 'H', 'I']\n",
        "\n",
        "addition_loader_f = torch.utils.data.DataLoader(overfit_dataset, batch_size=1, num_workers=1, shuffle=True)\n",
        "\n",
        "path_f = '/content/gdrive/My Drive/Colab Notebooks/APS360_labs/lab3/features'\n",
        "\n",
        "n = 0\n",
        "for img, label in addition_loader_f:\n",
        "    features = alexnet.features(img)\n",
        "    f_tensor = torch.from_numpy(features.detach().numpy())\n",
        "    folder_name = path_f + '/addition'\n",
        "    folder_name = \"/\".join([folder_name, str(classes[label])])\n",
        "    if not os.path.isdir(folder_name):\n",
        "        os.mkdir(folder_name)\n",
        "    torch.save(f_tensor.squeeze(0), folder_name + '/' + str(n) + '.tensor')\n",
        "    n += 1"
      ],
      "metadata": {
        "id": "OlrIK6NUfFxl"
      },
      "execution_count": null,
      "outputs": []
    },
    {
      "cell_type": "code",
      "execution_count": null,
      "metadata": {
        "collapsed": true,
        "jupyter": {
          "outputs_hidden": true
        },
        "colab": {
          "base_uri": "https://localhost:8080/"
        },
        "id": "gSHBNPHyTE7x",
        "outputId": "945a85d1-06f6-4c72-a74f-0255da320291"
      },
      "outputs": [
        {
          "output_type": "stream",
          "name": "stdout",
          "text": [
            "0.8513\n"
          ]
        }
      ],
      "source": [
        "addition_f = torchvision.datasets.DatasetFolder(path_f + '/addition', loader=torch.load, extensions=('.tensor'))\n",
        "addition_loader_ft = torch.utils.data.DataLoader(addition_f, batch_size=32, num_workers=1, shuffle=True)\n",
        "get_accuracy(transfer, addition_loader_ft)"
      ]
    },
    {
      "cell_type": "markdown",
      "source": [
        "The test accuracy aquired from the best model using the small addition dataset is 85.13%, which is a bit lower compared to the 86.25% obtained in part4(d). \n",
        "This is an expected result because the model is selected based on the best validation accuracy, and it should work better in the validation data and work not as well as it when it encounters some new data it never seen before.\n",
        "But in my opinion, this model works pretty well, there is only a small decrease in accuracy.\n"
      ],
      "metadata": {
        "id": "xXdyCnZvf68y"
      }
    }
  ],
  "metadata": {
    "colab": {
      "collapsed_sections": [],
      "provenance": []
    },
    "kernelspec": {
      "display_name": "Python 3 (ipykernel)",
      "language": "python",
      "name": "python3"
    },
    "language_info": {
      "codemirror_mode": {
        "name": "ipython",
        "version": 3
      },
      "file_extension": ".py",
      "mimetype": "text/x-python",
      "name": "python",
      "nbconvert_exporter": "python",
      "pygments_lexer": "ipython3",
      "version": "3.9.4"
    },
    "accelerator": "GPU",
    "widgets": {
      "application/vnd.jupyter.widget-state+json": {
        "4e5f7bdbd72a4991a576f3d0a975e8c9": {
          "model_module": "@jupyter-widgets/controls",
          "model_name": "HBoxModel",
          "model_module_version": "1.5.0",
          "state": {
            "_dom_classes": [],
            "_model_module": "@jupyter-widgets/controls",
            "_model_module_version": "1.5.0",
            "_model_name": "HBoxModel",
            "_view_count": null,
            "_view_module": "@jupyter-widgets/controls",
            "_view_module_version": "1.5.0",
            "_view_name": "HBoxView",
            "box_style": "",
            "children": [
              "IPY_MODEL_7af8f4d6991949b5833b171dbf0a6e9e",
              "IPY_MODEL_2a5b8a322eb34fe7ae5c8c7eacc0633d",
              "IPY_MODEL_c04c3718857f4a7691d104e5c85a3b63"
            ],
            "layout": "IPY_MODEL_cf177997feb94c308a3583059a0d3d8b"
          }
        },
        "7af8f4d6991949b5833b171dbf0a6e9e": {
          "model_module": "@jupyter-widgets/controls",
          "model_name": "HTMLModel",
          "model_module_version": "1.5.0",
          "state": {
            "_dom_classes": [],
            "_model_module": "@jupyter-widgets/controls",
            "_model_module_version": "1.5.0",
            "_model_name": "HTMLModel",
            "_view_count": null,
            "_view_module": "@jupyter-widgets/controls",
            "_view_module_version": "1.5.0",
            "_view_name": "HTMLView",
            "description": "",
            "description_tooltip": null,
            "layout": "IPY_MODEL_59555926dbee4f789747966a632b8e9f",
            "placeholder": "​",
            "style": "IPY_MODEL_e32c4a77c9464b3089bf4ffd1ffeb190",
            "value": "100%"
          }
        },
        "2a5b8a322eb34fe7ae5c8c7eacc0633d": {
          "model_module": "@jupyter-widgets/controls",
          "model_name": "FloatProgressModel",
          "model_module_version": "1.5.0",
          "state": {
            "_dom_classes": [],
            "_model_module": "@jupyter-widgets/controls",
            "_model_module_version": "1.5.0",
            "_model_name": "FloatProgressModel",
            "_view_count": null,
            "_view_module": "@jupyter-widgets/controls",
            "_view_module_version": "1.5.0",
            "_view_name": "ProgressView",
            "bar_style": "success",
            "description": "",
            "description_tooltip": null,
            "layout": "IPY_MODEL_ef0a3beab5a5460c9988309f5f37d4cf",
            "max": 244408911,
            "min": 0,
            "orientation": "horizontal",
            "style": "IPY_MODEL_53cbc71c0e3248d18200084096af44e7",
            "value": 244408911
          }
        },
        "c04c3718857f4a7691d104e5c85a3b63": {
          "model_module": "@jupyter-widgets/controls",
          "model_name": "HTMLModel",
          "model_module_version": "1.5.0",
          "state": {
            "_dom_classes": [],
            "_model_module": "@jupyter-widgets/controls",
            "_model_module_version": "1.5.0",
            "_model_name": "HTMLModel",
            "_view_count": null,
            "_view_module": "@jupyter-widgets/controls",
            "_view_module_version": "1.5.0",
            "_view_name": "HTMLView",
            "description": "",
            "description_tooltip": null,
            "layout": "IPY_MODEL_b2009d09dcd54bb2a54dc2f63874f46e",
            "placeholder": "​",
            "style": "IPY_MODEL_d5ca226b705f4b7f8c9078dcfcca141d",
            "value": " 233M/233M [00:03&lt;00:00, 81.3MB/s]"
          }
        },
        "cf177997feb94c308a3583059a0d3d8b": {
          "model_module": "@jupyter-widgets/base",
          "model_name": "LayoutModel",
          "model_module_version": "1.2.0",
          "state": {
            "_model_module": "@jupyter-widgets/base",
            "_model_module_version": "1.2.0",
            "_model_name": "LayoutModel",
            "_view_count": null,
            "_view_module": "@jupyter-widgets/base",
            "_view_module_version": "1.2.0",
            "_view_name": "LayoutView",
            "align_content": null,
            "align_items": null,
            "align_self": null,
            "border": null,
            "bottom": null,
            "display": null,
            "flex": null,
            "flex_flow": null,
            "grid_area": null,
            "grid_auto_columns": null,
            "grid_auto_flow": null,
            "grid_auto_rows": null,
            "grid_column": null,
            "grid_gap": null,
            "grid_row": null,
            "grid_template_areas": null,
            "grid_template_columns": null,
            "grid_template_rows": null,
            "height": null,
            "justify_content": null,
            "justify_items": null,
            "left": null,
            "margin": null,
            "max_height": null,
            "max_width": null,
            "min_height": null,
            "min_width": null,
            "object_fit": null,
            "object_position": null,
            "order": null,
            "overflow": null,
            "overflow_x": null,
            "overflow_y": null,
            "padding": null,
            "right": null,
            "top": null,
            "visibility": null,
            "width": null
          }
        },
        "59555926dbee4f789747966a632b8e9f": {
          "model_module": "@jupyter-widgets/base",
          "model_name": "LayoutModel",
          "model_module_version": "1.2.0",
          "state": {
            "_model_module": "@jupyter-widgets/base",
            "_model_module_version": "1.2.0",
            "_model_name": "LayoutModel",
            "_view_count": null,
            "_view_module": "@jupyter-widgets/base",
            "_view_module_version": "1.2.0",
            "_view_name": "LayoutView",
            "align_content": null,
            "align_items": null,
            "align_self": null,
            "border": null,
            "bottom": null,
            "display": null,
            "flex": null,
            "flex_flow": null,
            "grid_area": null,
            "grid_auto_columns": null,
            "grid_auto_flow": null,
            "grid_auto_rows": null,
            "grid_column": null,
            "grid_gap": null,
            "grid_row": null,
            "grid_template_areas": null,
            "grid_template_columns": null,
            "grid_template_rows": null,
            "height": null,
            "justify_content": null,
            "justify_items": null,
            "left": null,
            "margin": null,
            "max_height": null,
            "max_width": null,
            "min_height": null,
            "min_width": null,
            "object_fit": null,
            "object_position": null,
            "order": null,
            "overflow": null,
            "overflow_x": null,
            "overflow_y": null,
            "padding": null,
            "right": null,
            "top": null,
            "visibility": null,
            "width": null
          }
        },
        "e32c4a77c9464b3089bf4ffd1ffeb190": {
          "model_module": "@jupyter-widgets/controls",
          "model_name": "DescriptionStyleModel",
          "model_module_version": "1.5.0",
          "state": {
            "_model_module": "@jupyter-widgets/controls",
            "_model_module_version": "1.5.0",
            "_model_name": "DescriptionStyleModel",
            "_view_count": null,
            "_view_module": "@jupyter-widgets/base",
            "_view_module_version": "1.2.0",
            "_view_name": "StyleView",
            "description_width": ""
          }
        },
        "ef0a3beab5a5460c9988309f5f37d4cf": {
          "model_module": "@jupyter-widgets/base",
          "model_name": "LayoutModel",
          "model_module_version": "1.2.0",
          "state": {
            "_model_module": "@jupyter-widgets/base",
            "_model_module_version": "1.2.0",
            "_model_name": "LayoutModel",
            "_view_count": null,
            "_view_module": "@jupyter-widgets/base",
            "_view_module_version": "1.2.0",
            "_view_name": "LayoutView",
            "align_content": null,
            "align_items": null,
            "align_self": null,
            "border": null,
            "bottom": null,
            "display": null,
            "flex": null,
            "flex_flow": null,
            "grid_area": null,
            "grid_auto_columns": null,
            "grid_auto_flow": null,
            "grid_auto_rows": null,
            "grid_column": null,
            "grid_gap": null,
            "grid_row": null,
            "grid_template_areas": null,
            "grid_template_columns": null,
            "grid_template_rows": null,
            "height": null,
            "justify_content": null,
            "justify_items": null,
            "left": null,
            "margin": null,
            "max_height": null,
            "max_width": null,
            "min_height": null,
            "min_width": null,
            "object_fit": null,
            "object_position": null,
            "order": null,
            "overflow": null,
            "overflow_x": null,
            "overflow_y": null,
            "padding": null,
            "right": null,
            "top": null,
            "visibility": null,
            "width": null
          }
        },
        "53cbc71c0e3248d18200084096af44e7": {
          "model_module": "@jupyter-widgets/controls",
          "model_name": "ProgressStyleModel",
          "model_module_version": "1.5.0",
          "state": {
            "_model_module": "@jupyter-widgets/controls",
            "_model_module_version": "1.5.0",
            "_model_name": "ProgressStyleModel",
            "_view_count": null,
            "_view_module": "@jupyter-widgets/base",
            "_view_module_version": "1.2.0",
            "_view_name": "StyleView",
            "bar_color": null,
            "description_width": ""
          }
        },
        "b2009d09dcd54bb2a54dc2f63874f46e": {
          "model_module": "@jupyter-widgets/base",
          "model_name": "LayoutModel",
          "model_module_version": "1.2.0",
          "state": {
            "_model_module": "@jupyter-widgets/base",
            "_model_module_version": "1.2.0",
            "_model_name": "LayoutModel",
            "_view_count": null,
            "_view_module": "@jupyter-widgets/base",
            "_view_module_version": "1.2.0",
            "_view_name": "LayoutView",
            "align_content": null,
            "align_items": null,
            "align_self": null,
            "border": null,
            "bottom": null,
            "display": null,
            "flex": null,
            "flex_flow": null,
            "grid_area": null,
            "grid_auto_columns": null,
            "grid_auto_flow": null,
            "grid_auto_rows": null,
            "grid_column": null,
            "grid_gap": null,
            "grid_row": null,
            "grid_template_areas": null,
            "grid_template_columns": null,
            "grid_template_rows": null,
            "height": null,
            "justify_content": null,
            "justify_items": null,
            "left": null,
            "margin": null,
            "max_height": null,
            "max_width": null,
            "min_height": null,
            "min_width": null,
            "object_fit": null,
            "object_position": null,
            "order": null,
            "overflow": null,
            "overflow_x": null,
            "overflow_y": null,
            "padding": null,
            "right": null,
            "top": null,
            "visibility": null,
            "width": null
          }
        },
        "d5ca226b705f4b7f8c9078dcfcca141d": {
          "model_module": "@jupyter-widgets/controls",
          "model_name": "DescriptionStyleModel",
          "model_module_version": "1.5.0",
          "state": {
            "_model_module": "@jupyter-widgets/controls",
            "_model_module_version": "1.5.0",
            "_model_name": "DescriptionStyleModel",
            "_view_count": null,
            "_view_module": "@jupyter-widgets/base",
            "_view_module_version": "1.2.0",
            "_view_name": "StyleView",
            "description_width": ""
          }
        }
      }
    }
  },
  "nbformat": 4,
  "nbformat_minor": 0
}